{
 "cells": [
  {
   "cell_type": "markdown",
   "id": "5a314a33-105f-4f73-97cf-ea6d70598baf",
   "metadata": {},
   "source": [
    "Цель работы:"
   ]
  },
  {
   "cell_type": "markdown",
   "id": "7eea079d-9816-4911-94f1-d5659f6381fd",
   "metadata": {},
   "source": [
    "Подготовить рабочее пространство и инструментарий для работы с языком программирования Julia, на простейших примерах познакомиться с основами синтаксиса Julia."
   ]
  },
  {
   "cell_type": "code",
   "execution_count": 1,
   "id": "330ec9da-5c8c-45b0-b14f-1762e37e6bdb",
   "metadata": {},
   "outputs": [
    {
     "name": "stdout",
     "output_type": "stream",
     "text": [
      "Fri Nov 10 16:54:21 RTZ 2023\n"
     ]
    }
   ],
   "source": [
    ";date"
   ]
  },
  {
   "cell_type": "code",
   "execution_count": 2,
   "id": "225c0003-9462-4a3b-aaa1-f84101049490",
   "metadata": {},
   "outputs": [
    {
     "name": "stdout",
     "output_type": "stream",
     "text": [
      "win-orl1fa978ms\\admin\n"
     ]
    }
   ],
   "source": [
    ";whoami"
   ]
  },
  {
   "cell_type": "markdown",
   "id": "8cd4ed61-db58-4550-83e9-f657a9bfccac",
   "metadata": {},
   "source": [
    "1.    Изучите документацию по основным функциям Julia для чтения / записи / вывода информации на экран: read(), readline(), readlines(), readdlm(), print(),\n",
    "println(), show(), write(). Приведите свои примеры их использования, поясня \r\n",
    "особенности их применения."
   ]
  },
  {
   "cell_type": "markdown",
   "id": "45e567b7-58d7-44ae-a178-720b5d07a58e",
   "metadata": {},
   "source": [
    "Подготовка:"
   ]
  },
  {
   "cell_type": "code",
   "execution_count": 3,
   "id": "b2279441-b286-4f07-8c81-ce9e21388ef0",
   "metadata": {},
   "outputs": [],
   "source": [
    "using DelimitedFiles\n",
    "x = [1; 2; 3; 4];\n",
    "y = [5; 6; 7; 8];\n",
    "z = [5; 6; 7; 8];\n",
    "open(\"delim_file.txt\", \"w\") do io\n",
    "           writedlm(io, [x y z])\n",
    "       end"
   ]
  },
  {
   "cell_type": "markdown",
   "id": "a0d2cc8a-c7d2-44c3-ab73-66d062be85e9",
   "metadata": {},
   "source": [
    "Вывод с помощью read():"
   ]
  },
  {
   "cell_type": "code",
   "execution_count": 4,
   "id": "2f36fb40-00fa-480c-aea4-1293f15dcbc8",
   "metadata": {},
   "outputs": [
    {
     "data": {
      "text/plain": [
       "\"1\\t5\\t5\\n2\\t6\\t6\\n3\\t7\\t7\\n4\\t8\\t8\\n\""
      ]
     },
     "execution_count": 4,
     "metadata": {},
     "output_type": "execute_result"
    }
   ],
   "source": [
    "read(\"delim_file.txt\", String)"
   ]
  },
  {
   "cell_type": "markdown",
   "id": "6bb5d4e9-43d0-4f3c-9236-bac95d51f660",
   "metadata": {},
   "source": [
    "Вывод с помощью  readline():"
   ]
  },
  {
   "cell_type": "code",
   "execution_count": 5,
   "id": "9dc9dbc9-8b8f-4914-8df4-d5d251bc55d6",
   "metadata": {},
   "outputs": [
    {
     "data": {
      "text/plain": [
       "\"1\\t5\\t5\""
      ]
     },
     "execution_count": 5,
     "metadata": {},
     "output_type": "execute_result"
    }
   ],
   "source": [
    "readline(\"delim_file.txt\")"
   ]
  },
  {
   "cell_type": "markdown",
   "id": "867b0756-db68-4cc4-be00-8128f9f27b7f",
   "metadata": {},
   "source": [
    "Вывод с помощью readlines():"
   ]
  },
  {
   "cell_type": "code",
   "execution_count": 6,
   "id": "b9ae0e28-39d3-41e1-b51d-82e8642bb1d3",
   "metadata": {},
   "outputs": [
    {
     "data": {
      "text/plain": [
       "4-element Vector{String}:\n",
       " \"1\\t5\\t5\"\n",
       " \"2\\t6\\t6\"\n",
       " \"3\\t7\\t7\"\n",
       " \"4\\t8\\t8\""
      ]
     },
     "execution_count": 6,
     "metadata": {},
     "output_type": "execute_result"
    }
   ],
   "source": [
    "readlines(\"delim_file.txt\")"
   ]
  },
  {
   "cell_type": "markdown",
   "id": "3061e4be-6dd8-4713-928f-9fc64db63f47",
   "metadata": {},
   "source": [
    "Вывод с помощью readdlm():"
   ]
  },
  {
   "cell_type": "code",
   "execution_count": 7,
   "id": "d8b73368-65b6-4ab6-ae9f-6831fee35824",
   "metadata": {},
   "outputs": [
    {
     "data": {
      "text/plain": [
       "4×3 Matrix{Int64}:\n",
       " 1  5  5\n",
       " 2  6  6\n",
       " 3  7  7\n",
       " 4  8  8"
      ]
     },
     "execution_count": 7,
     "metadata": {},
     "output_type": "execute_result"
    }
   ],
   "source": [
    "readdlm(\"delim_file.txt\", '\\t', Int, '\\n')"
   ]
  },
  {
   "cell_type": "markdown",
   "id": "00180f7a-7c01-4c11-9e8e-1f5637aa0b12",
   "metadata": {},
   "source": [
    "Запись с помощью write():"
   ]
  },
  {
   "cell_type": "code",
   "execution_count": 8,
   "id": "d84783e6-4d72-406c-841f-7fc679bbf146",
   "metadata": {},
   "outputs": [],
   "source": [
    "# Открываю файл для записи\n",
    "a = [1; 2; 3; 4]\n",
    "file = open(\"output.txt\", \"w\")\n",
    "# Строка для вывода\n",
    "output_string = \"Привет, мир!\"\n",
    "# Используем функцию write() для записи строки в файл\n",
    "write(file, output_string)\n",
    "# Закрываем файл\n",
    "close(file)"
   ]
  },
  {
   "cell_type": "markdown",
   "id": "0067ff5b-6d4b-413d-8fa4-5112baa58515",
   "metadata": {},
   "source": [
    "Вывод с помощью print():"
   ]
  },
  {
   "cell_type": "code",
   "execution_count": 9,
   "id": "5cdeae7f-9085-4706-81dd-ddb000c37b4c",
   "metadata": {},
   "outputs": [
    {
     "name": "stdout",
     "output_type": "stream",
     "text": [
      "[1, 2, 3, 4] Привет, мир![1, 2, 3, 4] Привет, мир!"
     ]
    }
   ],
   "source": [
    "print(a, \" \", output_string)\n",
    "print(a, \" \", output_string)"
   ]
  },
  {
   "cell_type": "markdown",
   "id": "46fb53ee-817c-44ba-ad1f-0c19eb1e862e",
   "metadata": {},
   "source": [
    "Вывод с помощью println():"
   ]
  },
  {
   "cell_type": "code",
   "execution_count": 10,
   "id": "b2295e7a-240c-4183-aa55-68f06b9449bb",
   "metadata": {},
   "outputs": [
    {
     "name": "stdout",
     "output_type": "stream",
     "text": [
      "[1, 2, 3, 4] Привет, мир!\n",
      "[1, 2, 3, 4] Привет, мир!\n"
     ]
    }
   ],
   "source": [
    "println(a, \" \", output_string)\n",
    "println(a, \" \", output_string)"
   ]
  },
  {
   "cell_type": "markdown",
   "id": "a8e58389-c15b-4701-b2fc-76f7a9455f0c",
   "metadata": {},
   "source": [
    "Вывод с помощью show():"
   ]
  },
  {
   "cell_type": "code",
   "execution_count": 11,
   "id": "50382a79-a63d-491f-aa81-04bf390eb598",
   "metadata": {},
   "outputs": [
    {
     "name": "stdout",
     "output_type": "stream",
     "text": [
      "[1, 2, 3, 4]\"Привет, мир!\""
     ]
    }
   ],
   "source": [
    "show(a)\n",
    "show(output_string)"
   ]
  },
  {
   "cell_type": "markdown",
   "id": "a53f64ba-47d5-4f2d-98ce-df894e56d950",
   "metadata": {},
   "source": [
    "2.    Изучите документацию по функции parse(). Приведите свои примеры её использования, поясняя особенности её применения."
   ]
  },
  {
   "cell_type": "code",
   "execution_count": 12,
   "id": "569164d6-d1f7-420c-9768-a94c562752e1",
   "metadata": {},
   "outputs": [
    {
     "data": {
      "text/plain": [
       "1234"
      ]
     },
     "execution_count": 12,
     "metadata": {},
     "output_type": "execute_result"
    }
   ],
   "source": [
    "parse(Int, \"1234\")"
   ]
  },
  {
   "cell_type": "code",
   "execution_count": 13,
   "id": "c90de53f-f8e3-4f98-8d04-c5319d12fa9e",
   "metadata": {},
   "outputs": [
    {
     "data": {
      "text/plain": [
       "194"
      ]
     },
     "execution_count": 13,
     "metadata": {},
     "output_type": "execute_result"
    }
   ],
   "source": [
    "parse(Int, \"1234\", base = 5)"
   ]
  },
  {
   "cell_type": "code",
   "execution_count": 14,
   "id": "2783d4ef-231a-413a-89e7-48d753dfdb30",
   "metadata": {},
   "outputs": [
    {
     "data": {
      "text/plain": [
       "2812"
      ]
     },
     "execution_count": 14,
     "metadata": {},
     "output_type": "execute_result"
    }
   ],
   "source": [
    "parse(Int, \"afc\", base = 16)"
   ]
  },
  {
   "cell_type": "code",
   "execution_count": 15,
   "id": "1230a1ea-5bf0-4389-8a21-7405394862a0",
   "metadata": {},
   "outputs": [
    {
     "data": {
      "text/plain": [
       "0.0012"
      ]
     },
     "execution_count": 15,
     "metadata": {},
     "output_type": "execute_result"
    }
   ],
   "source": [
    "parse(Float64, \"1.2e-3\")"
   ]
  },
  {
   "cell_type": "code",
   "execution_count": 16,
   "id": "6cf1cfd7-540a-4295-b059-da939c408b20",
   "metadata": {},
   "outputs": [
    {
     "data": {
      "text/plain": [
       "0.32 + 4.5im"
      ]
     },
     "execution_count": 16,
     "metadata": {},
     "output_type": "execute_result"
    }
   ],
   "source": [
    "parse(Complex{Float64}, \"3.2e-1 + 4.5im\")"
   ]
  },
  {
   "cell_type": "markdown",
   "id": "a9fd3d83-b89b-4732-88b3-cd230dea5868",
   "metadata": {},
   "source": [
    "3.    Изучите синтаксис Julia для базовых математических операций с разным типом переменных: сложение, вычитание, умножение, деление, возведение в степень, извлечение\r\n",
    "корня, сравнение, логические операции. Приведите свои примеры с пояснениями по\r\n",
    "особенностям их применени.\r"
   ]
  },
  {
   "cell_type": "code",
   "execution_count": 17,
   "id": "8891f580-a97f-491a-8fe5-08ca217eb714",
   "metadata": {},
   "outputs": [
    {
     "data": {
      "text/plain": [
       "(5, 3, true, false)"
      ]
     },
     "execution_count": 17,
     "metadata": {},
     "output_type": "execute_result"
    }
   ],
   "source": [
    "a,b,c,d = 5,3,true,false"
   ]
  },
  {
   "cell_type": "markdown",
   "id": "fa7becc7-4ef5-4743-a03f-fb5a9bb8cceb",
   "metadata": {},
   "source": [
    "Операция сложение:"
   ]
  },
  {
   "cell_type": "code",
   "execution_count": 18,
   "id": "09ece3e7-aa2a-4c2c-8769-3d05b80563c8",
   "metadata": {},
   "outputs": [
    {
     "data": {
      "text/plain": [
       "8"
      ]
     },
     "execution_count": 18,
     "metadata": {},
     "output_type": "execute_result"
    }
   ],
   "source": [
    "a + b"
   ]
  },
  {
   "cell_type": "markdown",
   "id": "7a88e819-26a1-43aa-bc71-daa5b3ec3c63",
   "metadata": {},
   "source": [
    "Операция вычитание:"
   ]
  },
  {
   "cell_type": "code",
   "execution_count": 19,
   "id": "af771bc0-5d29-4749-ab23-bfd9670b73a2",
   "metadata": {},
   "outputs": [
    {
     "data": {
      "text/plain": [
       "2"
      ]
     },
     "execution_count": 19,
     "metadata": {},
     "output_type": "execute_result"
    }
   ],
   "source": [
    "a - b"
   ]
  },
  {
   "cell_type": "markdown",
   "id": "df889808-56be-409c-8347-5b3cabeafa61",
   "metadata": {},
   "source": [
    "Операция умножение:"
   ]
  },
  {
   "cell_type": "code",
   "execution_count": 20,
   "id": "8a51c3f8-4216-43ff-b996-cd0eb25959a0",
   "metadata": {},
   "outputs": [
    {
     "data": {
      "text/plain": [
       "15"
      ]
     },
     "execution_count": 20,
     "metadata": {},
     "output_type": "execute_result"
    }
   ],
   "source": [
    "a * b"
   ]
  },
  {
   "cell_type": "markdown",
   "id": "5de844de-4bfd-4082-87b2-7823a609ba4d",
   "metadata": {},
   "source": [
    "Операция деление:"
   ]
  },
  {
   "cell_type": "code",
   "execution_count": 21,
   "id": "1df8e0fe-f137-45ef-a910-1f89b976913f",
   "metadata": {},
   "outputs": [
    {
     "data": {
      "text/plain": [
       "1.6666666666666667"
      ]
     },
     "execution_count": 21,
     "metadata": {},
     "output_type": "execute_result"
    }
   ],
   "source": [
    "a / b"
   ]
  },
  {
   "cell_type": "markdown",
   "id": "f3577558-4062-4a21-b6d8-3c1aacb388a8",
   "metadata": {},
   "source": [
    "Операция возведение в степень:"
   ]
  },
  {
   "cell_type": "code",
   "execution_count": 22,
   "id": "513baaee-f470-407a-9956-098f374f2843",
   "metadata": {},
   "outputs": [
    {
     "data": {
      "text/plain": [
       "125"
      ]
     },
     "execution_count": 22,
     "metadata": {},
     "output_type": "execute_result"
    }
   ],
   "source": [
    "a ^ b"
   ]
  },
  {
   "cell_type": "markdown",
   "id": "881e7243-0dfe-4152-9702-910469b6c7e4",
   "metadata": {},
   "source": [
    "Операция извлечение корня:"
   ]
  },
  {
   "cell_type": "code",
   "execution_count": 23,
   "id": "a337e347-a46b-48a1-a958-9a412ca2ce96",
   "metadata": {},
   "outputs": [
    {
     "data": {
      "text/plain": [
       "2.23606797749979"
      ]
     },
     "execution_count": 23,
     "metadata": {},
     "output_type": "execute_result"
    }
   ],
   "source": [
    "sqrt(a)"
   ]
  },
  {
   "cell_type": "markdown",
   "id": "68996019-29c9-4aad-8887-f06c22deeadb",
   "metadata": {},
   "source": [
    "Операция сравнение:"
   ]
  },
  {
   "cell_type": "code",
   "execution_count": 24,
   "id": "1b063ceb-c146-45b0-a505-9e1836acee44",
   "metadata": {},
   "outputs": [
    {
     "data": {
      "text/plain": [
       "false"
      ]
     },
     "execution_count": 24,
     "metadata": {},
     "output_type": "execute_result"
    }
   ],
   "source": [
    "a == b"
   ]
  },
  {
   "cell_type": "markdown",
   "id": "54c71598-6bfe-49ca-98d4-bde4578335ac",
   "metadata": {},
   "source": [
    "Логические операции:"
   ]
  },
  {
   "cell_type": "code",
   "execution_count": 25,
   "id": "304b68fa-15e6-42ed-ba61-6c45dce877a3",
   "metadata": {},
   "outputs": [
    {
     "data": {
      "text/plain": [
       "-6"
      ]
     },
     "execution_count": 25,
     "metadata": {},
     "output_type": "execute_result"
    }
   ],
   "source": [
    "~a # Побитовое НЕ"
   ]
  },
  {
   "cell_type": "code",
   "execution_count": 26,
   "id": "ace1eff7-c567-4254-ae78-64f573aab2b3",
   "metadata": {},
   "outputs": [
    {
     "data": {
      "text/plain": [
       "1"
      ]
     },
     "execution_count": 26,
     "metadata": {},
     "output_type": "execute_result"
    }
   ],
   "source": [
    "a & b # Побитовое И"
   ]
  },
  {
   "cell_type": "code",
   "execution_count": 27,
   "id": "47f33b0a-76c3-4dba-88ae-82ea61734454",
   "metadata": {},
   "outputs": [
    {
     "data": {
      "text/plain": [
       "7"
      ]
     },
     "execution_count": 27,
     "metadata": {},
     "output_type": "execute_result"
    }
   ],
   "source": [
    "a | b # Побитовое ИЛИ"
   ]
  },
  {
   "cell_type": "code",
   "execution_count": 28,
   "id": "741e89e2-cc30-4d76-968d-156135cf3f58",
   "metadata": {},
   "outputs": [
    {
     "ename": "LoadError",
     "evalue": "syntax: colon expected in \"?\" expression",
     "output_type": "error",
     "traceback": [
      "syntax: colon expected in \"?\" expression",
      "",
      "Stacktrace:",
      " [1] top-level scope",
      "   @ In[28]:1"
     ]
    }
   ],
   "source": [
    "a ? b # Побитовое исключающее ИЛИ"
   ]
  },
  {
   "cell_type": "code",
   "execution_count": 29,
   "id": "a21fa505-1c2a-4c46-85ab-d81131443092",
   "metadata": {},
   "outputs": [
    {
     "data": {
      "text/plain": [
       "0"
      ]
     },
     "execution_count": 29,
     "metadata": {},
     "output_type": "execute_result"
    }
   ],
   "source": [
    "a >>> b # Логический сдвиг вправо"
   ]
  },
  {
   "cell_type": "code",
   "execution_count": 30,
   "id": "18986f9e-44a4-46f4-9397-abb97392811d",
   "metadata": {},
   "outputs": [
    {
     "data": {
      "text/plain": [
       "0"
      ]
     },
     "execution_count": 30,
     "metadata": {},
     "output_type": "execute_result"
    }
   ],
   "source": [
    "a >> b # Побитовый/логический сдвиг вправо"
   ]
  },
  {
   "cell_type": "code",
   "execution_count": 31,
   "id": "bb05b194-c24d-48d0-8c28-1f258e21db2a",
   "metadata": {},
   "outputs": [
    {
     "data": {
      "text/plain": [
       "40"
      ]
     },
     "execution_count": 31,
     "metadata": {},
     "output_type": "execute_result"
    }
   ],
   "source": [
    "a << b # Побитовый/логический сдвиг влево\t"
   ]
  },
  {
   "cell_type": "code",
   "execution_count": 32,
   "id": "97e79c4b-c0cd-4bdf-bdda-0d327873b37d",
   "metadata": {},
   "outputs": [
    {
     "data": {
      "text/plain": [
       "false"
      ]
     },
     "execution_count": 32,
     "metadata": {},
     "output_type": "execute_result"
    }
   ],
   "source": [
    "c && d # Логическое И"
   ]
  },
  {
   "cell_type": "code",
   "execution_count": 33,
   "id": "3be2b17a-dd57-42ad-bba2-56f8bdde8ae5",
   "metadata": {},
   "outputs": [
    {
     "data": {
      "text/plain": [
       "true"
      ]
     },
     "execution_count": 33,
     "metadata": {},
     "output_type": "execute_result"
    }
   ],
   "source": [
    "c || d # Логическое ИЛИ"
   ]
  },
  {
   "cell_type": "code",
   "execution_count": 34,
   "id": "a6154a27-19dd-44b3-8db1-837dfbb5b2c7",
   "metadata": {},
   "outputs": [
    {
     "data": {
      "text/plain": [
       "false"
      ]
     },
     "execution_count": 34,
     "metadata": {},
     "output_type": "execute_result"
    }
   ],
   "source": [
    "!c # Логическое НЕ"
   ]
  },
  {
   "cell_type": "markdown",
   "id": "976ea424-34d1-4075-8f40-e3f26049f365",
   "metadata": {},
   "source": [
    "4.    Приведите несколько своих примеров с пояснениями с операциями над матрицами\r\n",
    "и векторами: сложение, вычитание, скалярное произведение, транспонирование,\r\n",
    "умножение на скаляр."
   ]
  },
  {
   "cell_type": "markdown",
   "id": "cf22c7fd-4243-4b7e-82fa-be5d87e7e8f0",
   "metadata": {},
   "source": [
    "Подготовка:"
   ]
  },
  {
   "cell_type": "code",
   "execution_count": 35,
   "id": "b12869ca-128b-4285-a56b-67c091cfd636",
   "metadata": {},
   "outputs": [
    {
     "data": {
      "text/plain": [
       "2-element Vector{Int64}:\n",
       " 21\n",
       " 45"
      ]
     },
     "execution_count": 35,
     "metadata": {},
     "output_type": "execute_result"
    }
   ],
   "source": [
    "A = [1 2; 2 3]\n",
    "B = [3 2; 2 3]\n",
    "C = [21; 45]"
   ]
  },
  {
   "cell_type": "markdown",
   "id": "a4e601fa-a596-4f41-9aa3-400114fe0f1c",
   "metadata": {},
   "source": [
    "Сумма матриц:"
   ]
  },
  {
   "cell_type": "code",
   "execution_count": 36,
   "id": "dbdb1b08-c936-4313-8f35-4dbd4cc7526d",
   "metadata": {},
   "outputs": [
    {
     "data": {
      "text/plain": [
       "2×2 Matrix{Int64}:\n",
       " 4  4\n",
       " 4  6"
      ]
     },
     "execution_count": 36,
     "metadata": {},
     "output_type": "execute_result"
    }
   ],
   "source": [
    "A + B"
   ]
  },
  {
   "cell_type": "markdown",
   "id": "4487ee5b-62cd-48e6-9c05-6c397f654ee0",
   "metadata": {},
   "source": [
    "Разность матриц:"
   ]
  },
  {
   "cell_type": "code",
   "execution_count": 37,
   "id": "1b748112-baa8-4ca7-8c99-872c890afd31",
   "metadata": {},
   "outputs": [
    {
     "data": {
      "text/plain": [
       "2×2 Matrix{Int64}:\n",
       " -2  0\n",
       "  0  0"
      ]
     },
     "execution_count": 37,
     "metadata": {},
     "output_type": "execute_result"
    }
   ],
   "source": [
    "A - B"
   ]
  },
  {
   "cell_type": "markdown",
   "id": "2920cd33-de85-4147-87e2-96e2b53c076e",
   "metadata": {},
   "source": [
    "Транспонирую матрицу A:"
   ]
  },
  {
   "cell_type": "code",
   "execution_count": 38,
   "id": "79c59b1b-692a-40fe-b7b0-88216ec8ab97",
   "metadata": {},
   "outputs": [
    {
     "data": {
      "text/plain": [
       "2×2 transpose(::Matrix{Int64}) with eltype Int64:\n",
       " 1  2\n",
       " 2  3"
      ]
     },
     "execution_count": 38,
     "metadata": {},
     "output_type": "execute_result"
    }
   ],
   "source": [
    "transpose(A)"
   ]
  },
  {
   "cell_type": "markdown",
   "id": "e34ac686-e584-45ff-829e-33937d5b0d58",
   "metadata": {},
   "source": [
    "Умножение матрицы на число:"
   ]
  },
  {
   "cell_type": "code",
   "execution_count": 39,
   "id": "a17a9ddb-34d3-4f3e-94f8-2250be8cd9f5",
   "metadata": {},
   "outputs": [
    {
     "data": {
      "text/plain": [
       "2×2 Matrix{Int64}:\n",
       " 2  4\n",
       " 4  6"
      ]
     },
     "execution_count": 39,
     "metadata": {},
     "output_type": "execute_result"
    }
   ],
   "source": [
    "A * 2"
   ]
  },
  {
   "cell_type": "markdown",
   "id": "3ea8b004-6d0c-4568-9077-5f62e385d577",
   "metadata": {},
   "source": [
    "Умножение матрицы на матрицу:"
   ]
  },
  {
   "cell_type": "code",
   "execution_count": 40,
   "id": "acecce1f-e2a0-4469-b314-d9fa9e9ca9f8",
   "metadata": {},
   "outputs": [
    {
     "data": {
      "text/plain": [
       "2×2 Matrix{Int64}:\n",
       "  7   8\n",
       " 12  13"
      ]
     },
     "execution_count": 40,
     "metadata": {},
     "output_type": "execute_result"
    }
   ],
   "source": [
    "A * B"
   ]
  },
  {
   "cell_type": "markdown",
   "id": "4bfa435e-3196-430a-b72d-b5782de2e533",
   "metadata": {},
   "source": [
    "Выводы:"
   ]
  },
  {
   "cell_type": "markdown",
   "id": "0f7d7d51-3a8f-4c42-b8a4-735727d72047",
   "metadata": {},
   "source": [
    "Подготовил рабочее пространство и инструментарий для работы с языком программирования Julia, на простейших примерах познакомился с основами синтаксиса Julia."
   ]
  },
  {
   "cell_type": "markdown",
   "id": "52649d91-03e1-4a8e-9ebc-66e9f0caf9bb",
   "metadata": {},
   "source": [
    "Список литературы:"
   ]
  },
  {
   "cell_type": "markdown",
   "id": "297e9da4-f7c0-41d9-a509-fec65dfcf57c",
   "metadata": {},
   "source": [
    "1. Julia 1.5 Documentation. — 2020. — URL: https://docs.julialang.org/en/v1/.\n",
    "2. Klok H.,Nazarathy Y. Statistics with Julia: Fundamentals for Data Science,Machine Learning\n",
    "and Artificial Intelligence. — 2020. — URL: https://statisticswithjulia.org/.\n",
    "3. Ökten G. First Semester in Numerical Analysis with Julia. — Florida State University, 2019. —\n",
    "DOI: 10.33009/jul.\n",
    "4. Антонюк В. А. Язык Julia как инструмент исследователя. — М. : Физический факультет\n",
    "МГУ им. М. В. Ломоносова, 2019.\n",
    "5. Шиндин А. В. Язык программирования математических вычислений Julia. Базовое\n",
    "руководство. — Нижний Новгород : Нижегородский госуниверситет, 2016."
   ]
  }
 ],
 "metadata": {
  "kernelspec": {
   "display_name": "Julia 1.8.5",
   "language": "julia",
   "name": "julia-1.8"
  },
  "language_info": {
   "file_extension": ".jl",
   "mimetype": "application/julia",
   "name": "julia",
   "version": "1.8.5"
  }
 },
 "nbformat": 4,
 "nbformat_minor": 5
}
