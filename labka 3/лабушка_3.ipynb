{
 "cells": [
  {
   "cell_type": "markdown",
   "id": "5c75f33c-ecb2-464b-86c9-c09259fd4a2a",
   "metadata": {},
   "source": [
    "Цель работы:"
   ]
  },
  {
   "cell_type": "markdown",
   "id": "2df23af7-96da-486b-b70b-3eaffe47b4ad",
   "metadata": {},
   "source": [
    "Основная цель работы — освоить применение циклов функций и сторонних для Julia\n",
    "пакетов для решения задач линейной алгебры и работы с матрицами."
   ]
  },
  {
   "cell_type": "code",
   "execution_count": 1,
   "id": "c1425cf8-28a7-46e5-9882-d39aa853a389",
   "metadata": {},
   "outputs": [
    {
     "name": "stdout",
     "output_type": "stream",
     "text": [
      "Fri Nov 24 15:54:13 RTZ 2023\n"
     ]
    }
   ],
   "source": [
    ";date"
   ]
  },
  {
   "cell_type": "code",
   "execution_count": 2,
   "id": "824df104-1eb1-4f1f-ba5f-fee6cd308397",
   "metadata": {},
   "outputs": [
    {
     "name": "stdout",
     "output_type": "stream",
     "text": [
      "win-orl1fa978ms\\admin\n"
     ]
    }
   ],
   "source": [
    ";whoami"
   ]
  },
  {
   "cell_type": "markdown",
   "id": "15329083-4e58-45c5-8030-bb3c73d011bc",
   "metadata": {},
   "source": [
    "1. Используя циклы $while$ и $for$:\\\n",
    "– выведите на экран целые числа от 1 до 100 и напечатайте их квадраты;(1.1)\\\n",
    "– создайте словарь $squares$, который будет содержать целые числа в качестве ключей и квадраты в качестве их пар-значений;(1.2)"
   ]
  },
  {
   "cell_type": "code",
   "execution_count": 3,
   "id": "9d806e81-0121-4fc3-9b0d-5bdc10f30aad",
   "metadata": {},
   "outputs": [
    {
     "name": "stdout",
     "output_type": "stream",
     "text": [
      "Целые числа и их квадраты (цикл while):\n",
      "Число:1 Квадрат:1    Число:26 Квадрат:676    Число:51 Квадрат:2601    Число:76 Квадрат:5776\n",
      "Число:2 Квадрат:4    Число:27 Квадрат:729    Число:52 Квадрат:2704    Число:77 Квадрат:5929\n",
      "Число:3 Квадрат:9    Число:28 Квадрат:784    Число:53 Квадрат:2809    Число:78 Квадрат:6084\n",
      "Число:4 Квадрат:16    Число:29 Квадрат:841    Число:54 Квадрат:2916    Число:79 Квадрат:6241\n",
      "Число:5 Квадрат:25    Число:30 Квадрат:900    Число:55 Квадрат:3025    Число:80 Квадрат:6400\n",
      "Число:6 Квадрат:36    Число:31 Квадрат:961    Число:56 Квадрат:3136    Число:81 Квадрат:6561\n",
      "Число:7 Квадрат:49    Число:32 Квадрат:1024    Число:57 Квадрат:3249    Число:82 Квадрат:6724\n",
      "Число:8 Квадрат:64    Число:33 Квадрат:1089    Число:58 Квадрат:3364    Число:83 Квадрат:6889\n",
      "Число:9 Квадрат:81    Число:34 Квадрат:1156    Число:59 Квадрат:3481    Число:84 Квадрат:7056\n",
      "Число:10 Квадрат:100    Число:35 Квадрат:1225    Число:60 Квадрат:3600    Число:85 Квадрат:7225\n",
      "Число:11 Квадрат:121    Число:36 Квадрат:1296    Число:61 Квадрат:3721    Число:86 Квадрат:7396\n",
      "Число:12 Квадрат:144    Число:37 Квадрат:1369    Число:62 Квадрат:3844    Число:87 Квадрат:7569\n",
      "Число:13 Квадрат:169    Число:38 Квадрат:1444    Число:63 Квадрат:3969    Число:88 Квадрат:7744\n",
      "Число:14 Квадрат:196    Число:39 Квадрат:1521    Число:64 Квадрат:4096    Число:89 Квадрат:7921\n",
      "Число:15 Квадрат:225    Число:40 Квадрат:1600    Число:65 Квадрат:4225    Число:90 Квадрат:8100\n",
      "Число:16 Квадрат:256    Число:41 Квадрат:1681    Число:66 Квадрат:4356    Число:91 Квадрат:8281\n",
      "Число:17 Квадрат:289    Число:42 Квадрат:1764    Число:67 Квадрат:4489    Число:92 Квадрат:8464\n",
      "Число:18 Квадрат:324    Число:43 Квадрат:1849    Число:68 Квадрат:4624    Число:93 Квадрат:8649\n",
      "Число:19 Квадрат:361    Число:44 Квадрат:1936    Число:69 Квадрат:4761    Число:94 Квадрат:8836\n",
      "Число:20 Квадрат:400    Число:45 Квадрат:2025    Число:70 Квадрат:4900    Число:95 Квадрат:9025\n",
      "Число:21 Квадрат:441    Число:46 Квадрат:2116    Число:71 Квадрат:5041    Число:96 Квадрат:9216\n",
      "Число:22 Квадрат:484    Число:47 Квадрат:2209    Число:72 Квадрат:5184    Число:97 Квадрат:9409\n",
      "Число:23 Квадрат:529    Число:48 Квадрат:2304    Число:73 Квадрат:5329    Число:98 Квадрат:9604\n",
      "Число:24 Квадрат:576    Число:49 Квадрат:2401    Число:74 Квадрат:5476    Число:99 Квадрат:9801\n",
      "Число:25 Квадрат:625    Число:50 Квадрат:2500    Число:75 Квадрат:5625    Число:100 Квадрат:10000\n"
     ]
    }
   ],
   "source": [
    "# (1.1) Используем цикл while для вывода целых чисел от 1 до 100 и их квадратов\n",
    "println(\"Целые числа и их квадраты (цикл while):\")\n",
    "i = 1\n",
    "while i <= 25\n",
    "    square = i^2\n",
    "    println(\"Число:\", i, \" \",\"Квадрат:\", i^2 ,\"    \", \"Число:\", i + 25,\" \", \"Квадрат:\", (i+25)^2,\"    \", \"Число:\", i + 50,\" \", \"Квадрат:\", (i+50)^2,\"    \", \"Число:\", i + 75,\" \", \"Квадрат:\", (i+75)^2)\n",
    "    i += 1\n",
    "end"
   ]
  },
  {
   "cell_type": "code",
   "execution_count": 4,
   "id": "826eba7f-10ad-4f4a-8d69-7c62c8edfea5",
   "metadata": {},
   "outputs": [
    {
     "name": "stdout",
     "output_type": "stream",
     "text": [
      "\n",
      "Создание словаря squares (цикл for):\n",
      "Dict(5 => 25, 56 => 3136, 35 => 1225, 55 => 3025, 60 => 3600, 30 => 900, 32 => 1024, 6 => 36, 67 => 4489, 45 => 2025, 73 => 5329, 64 => 4096, 90 => 8100, 4 => 16, 13 => 169, 54 => 2916, 63 => 3969, 86 => 7396, 91 => 8281, 62 => 3844, 58 => 3364, 52 => 2704, 12 => 144, 28 => 784, 75 => 5625, 23 => 529, 92 => 8464, 41 => 1681, 43 => 1849, 11 => 121, 36 => 1296, 68 => 4624, 69 => 4761, 98 => 9604, 82 => 6724, 85 => 7225, 39 => 1521, 84 => 7056, 77 => 5929, 7 => 49, 25 => 625, 95 => 9025, 71 => 5041, 66 => 4356, 76 => 5776, 34 => 1156, 50 => 2500, 59 => 3481, 93 => 8649, 2 => 4, 10 => 100, 18 => 324, 26 => 676, 27 => 729, 42 => 1764, 87 => 7569, 100 => 10000, 79 => 6241, 16 => 256, 20 => 400, 81 => 6561, 19 => 361, 49 => 2401, 44 => 1936, 9 => 81, 31 => 961, 74 => 5476, 61 => 3721, 29 => 841, 94 => 8836, 46 => 2116, 57 => 3249, 70 => 4900, 21 => 441, 38 => 1444, 88 => 7744, 78 => 6084, 72 => 5184, 24 => 576, 8 => 64, 17 => 289, 37 => 1369, 1 => 1, 53 => 2809, 22 => 484, 47 => 2209, 83 => 6889, 99 => 9801, 89 => 7921, 14 => 196, 3 => 9, 80 => 6400, 96 => 9216, 51 => 2601, 33 => 1089, 40 => 1600, 48 => 2304, 15 => 225, 65 => 4225, 97 => 9409)\n"
     ]
    }
   ],
   "source": [
    "# (1.2) Используем цикл for для создания словаря squares\n",
    "squares = Dict{Int, Int}()\n",
    "\n",
    "println(\"\\nСоздание словаря squares (цикл for):\")\n",
    "for j in 1:100\n",
    "    squares[j] = j^2\n",
    "end\n",
    "\n",
    "println(squares)"
   ]
  },
  {
   "cell_type": "markdown",
   "id": "f7a87774-13c5-47da-9d33-b0580d83e7ee",
   "metadata": {},
   "source": [
    "2. Напишите условный оператор, который печатает число, если число чётное, и строку\n",
    "«нечётное», если число нечётное(2.1). Перепишите код, используя тернарный оператор(2.2)."
   ]
  },
  {
   "cell_type": "code",
   "execution_count": 5,
   "id": "b4864f8e-4cd8-482f-9504-3cc4521fe64d",
   "metadata": {},
   "outputs": [
    {
     "name": "stdout",
     "output_type": "stream",
     "text": [
      "Чётное число: 4\n",
      "Нечётное число\n",
      "Чётное число: 76\n"
     ]
    }
   ],
   "source": [
    "#(2.1)\n",
    "function printNumberType(num)\n",
    "    if iseven(num)\n",
    "        println(\"Чётное число: $num\")\n",
    "    else\n",
    "        println(\"Нечётное число\")\n",
    "    end\n",
    "end\n",
    "\n",
    "# Пример использования\n",
    "printNumberType(4)\n",
    "printNumberType(7)\n",
    "printNumberType(76)"
   ]
  },
  {
   "cell_type": "code",
   "execution_count": 6,
   "id": "af1068ce-bc28-49b0-9086-5e7badd1a794",
   "metadata": {},
   "outputs": [
    {
     "name": "stdout",
     "output_type": "stream",
     "text": [
      "Чётное число: 4\n",
      "Нечётное число\n",
      "Чётное число: 76\n"
     ]
    }
   ],
   "source": [
    "#(2.2)\n",
    "function printNumberTypeTernary(num)\n",
    "    println(iseven(num) ? \"Чётное число: $num\" : \"Нечётное число\")\n",
    "end\n",
    "\n",
    "# Пример использования тернарного оператора\n",
    "printNumberTypeTernary(4)\n",
    "printNumberTypeTernary(7)\n",
    "printNumberType(76)"
   ]
  },
  {
   "cell_type": "markdown",
   "id": "3db8d9c4-55b1-465e-80a5-aeb4c9bfe864",
   "metadata": {},
   "source": [
    "3. Напишите функцию $add$_$one$, которая добавляет 1 к своему входу."
   ]
  },
  {
   "cell_type": "code",
   "execution_count": 7,
   "id": "7291224f-b393-42f6-8ff1-f9adf6978035",
   "metadata": {},
   "outputs": [
    {
     "name": "stdout",
     "output_type": "stream",
     "text": [
      "Результат: 6\n"
     ]
    }
   ],
   "source": [
    "function add_one(x)\n",
    "    return x + 1\n",
    "end\n",
    "\n",
    "# Пример использования\n",
    "result = add_one(5)\n",
    "println(\"Результат: $result\")"
   ]
  },
  {
   "cell_type": "markdown",
   "id": "415ef225-f5dc-45c2-a5b4-f1e10586c06d",
   "metadata": {},
   "source": [
    "4. Используйте $map()$ или $broadcast()$ для задания матрицы $𝐴$, каждый элемент которой увеличивается на единицу по сравнению с предыдущим."
   ]
  },
  {
   "cell_type": "code",
   "execution_count": 8,
   "id": "2a6af840-fd86-4e09-ad91-aa56ad687cf3",
   "metadata": {},
   "outputs": [
    {
     "name": "stdout",
     "output_type": "stream",
     "text": [
      "Исходная матрица A:\n"
     ]
    },
    {
     "data": {
      "text/plain": [
       "3×3 Matrix{Int64}:\n",
       " 1  2  3\n",
       " 4  5  6\n",
       " 7  8  9"
      ]
     },
     "metadata": {},
     "output_type": "display_data"
    },
    {
     "name": "stdout",
     "output_type": "stream",
     "text": [
      "\n",
      "Матрица B (увеличенная на единицу):\n"
     ]
    },
    {
     "data": {
      "text/plain": [
       "3×3 Matrix{Int64}:\n",
       " 2  3   4\n",
       " 5  6   7\n",
       " 8  9  10"
      ]
     },
     "metadata": {},
     "output_type": "display_data"
    }
   ],
   "source": [
    "# Создаем исходную матрицу A\n",
    "A = [1 2 3 ; 4 5 6 ; 7 8 9]\n",
    "\n",
    "# Используем broadcast для увеличения каждого элемента на единицу\n",
    "B = broadcast(x -> x + 1, A)\n",
    "\n",
    "# Выводим исходную и измененную матрицы\n",
    "println(\"Исходная матрица A:\")\n",
    "display(A)\n",
    "\n",
    "println(\"\\nМатрица B (увеличенная на единицу):\")\n",
    "display(B)"
   ]
  },
  {
   "cell_type": "markdown",
   "id": "aa238c68-d2d9-4c41-8fd8-f252f0488dae",
   "metadata": {},
   "source": [
    "5. Задайте матрицу $𝐴$ следующего вида:\n",
    "  \n",
    "$A$ =$\\begin{pmatrix}\n",
    "1 & 1 & 3 \\\\\n",
    "5 & 2 & 6 \\\\\n",
    "-2 & -1 & -3\n",
    "\\end{pmatrix}\\\n",
    "$\n",
    "\\\n",
    "\\\n",
    "– Найдите $𝐴^3$.\\\n",
    "– Замените третий столбец матрицы $𝐴$ на сумму второго и третьего столбцов."
   ]
  },
  {
   "cell_type": "code",
   "execution_count": 9,
   "id": "7a00784a-7f2a-4baf-9ea8-6d800793986d",
   "metadata": {},
   "outputs": [
    {
     "name": "stdout",
     "output_type": "stream",
     "text": [
      "Матрица A:\n"
     ]
    },
    {
     "data": {
      "text/plain": [
       "3×3 Matrix{Int64}:\n",
       "  1   1   3\n",
       "  5   2   6\n",
       " -2  -1  -3"
      ]
     },
     "metadata": {},
     "output_type": "display_data"
    },
    {
     "name": "stdout",
     "output_type": "stream",
     "text": [
      "\n",
      "Матрица A^3:\n"
     ]
    },
    {
     "data": {
      "text/plain": [
       "3×3 Matrix{Int64}:\n",
       "   1   1   27\n",
       " 125   8  216\n",
       "  -8  -1  -27"
      ]
     },
     "metadata": {},
     "output_type": "display_data"
    },
    {
     "name": "stdout",
     "output_type": "stream",
     "text": [
      " \n",
      "Матрица A:\n"
     ]
    },
    {
     "data": {
      "text/plain": [
       "3×3 Matrix{Int64}:\n",
       "  1   1   4\n",
       "  5   2   8\n",
       " -2  -1  -4"
      ]
     },
     "metadata": {},
     "output_type": "display_data"
    }
   ],
   "source": [
    "# Задаем матрицу A\n",
    "A = [1 1 3; 5 2 6; -2 -1 -3]\n",
    "\n",
    "println(\"Матрица A:\")\n",
    "display(A)\n",
    "\n",
    "A_cube = broadcast(x -> x^3, A)\n",
    "\n",
    "println(\"\\nМатрица A^3:\")\n",
    "display(A_cube)\n",
    "println(\" \")\n",
    "\n",
    "A[:, 3] .= A[:, 2] + A[:, 3]\n",
    "\n",
    "println(\"Матрица A:\")\n",
    "display(A)"
   ]
  },
  {
   "cell_type": "markdown",
   "id": "0235def6-17c1-422d-9ab7-80e0fc0d75ae",
   "metadata": {},
   "source": [
    "6. Создайте матрицу $𝐵$ с элементами $B_{i1}=10,B_{i2}=-10,B_{i3}=10,i = 1,2,\\cdots ,15.$\n",
    "Вычислите матрицу $𝐶$ = $B^{T}B$."
   ]
  },
  {
   "cell_type": "code",
   "execution_count": 10,
   "id": "beb39225-dc00-40f1-8de3-64c7c3c38df0",
   "metadata": {},
   "outputs": [
    {
     "name": "stdout",
     "output_type": "stream",
     "text": [
      "Матрица B:\n"
     ]
    },
    {
     "data": {
      "text/plain": [
       "15×3 Matrix{Int64}:\n",
       " 10  -10  10\n",
       " 10  -10  10\n",
       " 10  -10  10\n",
       " 10  -10  10\n",
       " 10  -10  10\n",
       " 10  -10  10\n",
       " 10  -10  10\n",
       " 10  -10  10\n",
       " 10  -10  10\n",
       " 10  -10  10\n",
       " 10  -10  10\n",
       " 10  -10  10\n",
       " 10  -10  10\n",
       " 10  -10  10\n",
       " 10  -10  10"
      ]
     },
     "metadata": {},
     "output_type": "display_data"
    },
    {
     "name": "stdout",
     "output_type": "stream",
     "text": [
      "\n",
      "Матрица C:\n"
     ]
    },
    {
     "data": {
      "text/plain": [
       "3×3 Matrix{Int64}:\n",
       "  1500  -1500   1500\n",
       " -1500   1500  -1500\n",
       "  1500  -1500   1500"
      ]
     },
     "metadata": {},
     "output_type": "display_data"
    }
   ],
   "source": [
    "# Создаем матрицу B\n",
    "B = zeros(Int, 15, 3)\n",
    "for i in 1:15\n",
    "    B[i,1] = 10; B[i,2] = -10; B[i,3] = 10\n",
    "end\n",
    "\n",
    "C = transpose(B) * B\n",
    "\n",
    "println(\"Матрица B:\")\n",
    "display(B)\n",
    "\n",
    "println(\"\\nМатрица C:\")\n",
    "display(C)"
   ]
  },
  {
   "cell_type": "markdown",
   "id": "16731876-6c19-4f39-8755-0c6a5eb3cd78",
   "metadata": {},
   "source": [
    "7. Создайте матрицу 𝑍 размерности $6 × 6$, все элементы которой равны нулю, и матрицу\n",
    "$𝐸$, все элементы которой равны $1$. Используя цикл $while$ или $for$ и закономерности\n",
    "расположения элементов, создайте следующие матрицы размерности $6 × 6$:\n",
    "\n",
    "$$Z_{1}=\\begin{pmatrix}\n",
    "0 & 1 & 0 & 0 & 0 & 0 \\\\\n",
    "1 & 0 & 1 & 0 & 0 & 0 \\\\\n",
    "0 & 1 & 0 & 1 & 0 & 0 \\\\\n",
    "0 & 0 & 1 & 0 & 1 & 0 \\\\\n",
    "0 & 0 & 0 & 1 & 0 & 1 \\\\\n",
    "0 & 0 & 0 & 0 & 1 & 0\n",
    "\\end{pmatrix}\\\n",
    ",(7.1) \\qquad\n",
    "Z_{2}=\\begin{pmatrix}\n",
    "1 & 0 & 1 & 0 & 0 & 0 \\\\\n",
    "0 & 1 & 0 & 1 & 0 & 0 \\\\\n",
    "1 & 0 & 1 & 0 & 1 & 0 \\\\\n",
    "0 & 1 & 0 & 1 & 0 & 1 \\\\\n",
    "0 & 0 & 1 & 0 & 1 & 0 \\\\\n",
    "0 & 0 & 0 & 1 & 0 & 1\n",
    "\\end{pmatrix}\\\n",
    ",(7.2) \\qquad\n",
    "Z_{3}=\\begin{pmatrix}\n",
    "0 & 0 & 0 & 1 & 0 & 1 \\\\\n",
    "0 & 0 & 1 & 0 & 1 & 0 \\\\\n",
    "0 & 1 & 0 & 1 & 0 & 1 \\\\\n",
    "1 & 0 & 1 & 0 & 1 & 0 \\\\\n",
    "0 & 1 & 0 & 1 & 0 & 0 \\\\\n",
    "1 & 0 & 1 & 0 & 0 & 0\n",
    "\\end{pmatrix}\\\n",
    ",(7.3) \\qquad\n",
    "Z_{4}=\\begin{pmatrix}\n",
    "1 & 0 & 1 & 0 & 1 & 0 \\\\\n",
    "0 & 1 & 0 & 1 & 0 & 1 \\\\\n",
    "1 & 0 & 1 & 0 & 1 & 0 \\\\\n",
    "0 & 1 & 0 & 1 & 0 & 1 \\\\\n",
    "1 & 0 & 1 & 0 & 1 & 0 \\\\\n",
    "0 & 1 & 0 & 1 & 0 & 1\n",
    "\\end{pmatrix}\\, (7.4)\n",
    "$$."
   ]
  },
  {
   "cell_type": "code",
   "execution_count": 11,
   "id": "bc4db005-8b91-443f-9040-0519423d055e",
   "metadata": {},
   "outputs": [
    {
     "name": "stdout",
     "output_type": "stream",
     "text": [
      "Матрица Z1:\n"
     ]
    },
    {
     "data": {
      "text/plain": [
       "6×6 Matrix{Int64}:\n",
       " 0  1  0  0  0  0\n",
       " 1  0  1  0  0  0\n",
       " 0  1  0  1  0  0\n",
       " 0  0  1  0  1  0\n",
       " 0  0  0  1  0  1\n",
       " 0  0  0  0  1  0"
      ]
     },
     "metadata": {},
     "output_type": "display_data"
    }
   ],
   "source": [
    "Z = zeros(Int, 6, 6)\n",
    "E = ones(Int, 6, 6)\n",
    "\n",
    "function create_Z1(n)\n",
    "    Z1 = copy(Z)\n",
    "    for i in 1:n-1\n",
    "        Z1[i, i+1] = 1\n",
    "        Z1[i+1, i] = 1\n",
    "    end\n",
    "    return Z1\n",
    "end\n",
    "\n",
    "# Создаем матрицы Z1, Z2, Z3, Z4\n",
    "Z1 = create_Z1(6)\n",
    "\n",
    "\n",
    "# Вывод результатов\n",
    "println(\"Матрица Z1:\")\n",
    "display(Z1)"
   ]
  },
  {
   "cell_type": "code",
   "execution_count": 12,
   "id": "8509fcdf-6fa7-4079-8d27-dfae44b6e4bd",
   "metadata": {},
   "outputs": [
    {
     "name": "stdout",
     "output_type": "stream",
     "text": [
      "\n",
      "Матрица Z2:\n"
     ]
    },
    {
     "data": {
      "text/plain": [
       "6×6 Matrix{Int64}:\n",
       " 1  0  1  0  0  0\n",
       " 0  1  0  1  0  0\n",
       " 1  0  1  0  1  0\n",
       " 0  1  0  1  0  1\n",
       " 0  0  1  0  1  0\n",
       " 0  0  0  1  0  1"
      ]
     },
     "metadata": {},
     "output_type": "display_data"
    }
   ],
   "source": [
    "Z = zeros(Int, 6, 6)\n",
    "E = ones(Int, 6, 6)\n",
    "\n",
    "Z2 = copy(Z)\n",
    "# Создание матрицы Z2, используя закономерности расположения элементов\n",
    "for i in 1:6\n",
    "    for j in 1:6\n",
    "        if abs(i == j) || (i == j-2) || (i == j+2)\n",
    "            Z2[i, j] = 1\n",
    "        end\n",
    "    end\n",
    "end\n",
    "\n",
    "println(\"\\nМатрица Z2:\")\n",
    "display(Z2)"
   ]
  },
  {
   "cell_type": "code",
   "execution_count": 13,
   "id": "0b3b1e54-eeba-44d4-9ea4-aa6273df302d",
   "metadata": {},
   "outputs": [
    {
     "name": "stdout",
     "output_type": "stream",
     "text": [
      "\n",
      "Матрица Z3:\n"
     ]
    },
    {
     "data": {
      "text/plain": [
       "6×6 Matrix{Int64}:\n",
       " 0  0  0  1  0  1\n",
       " 0  0  1  0  1  0\n",
       " 0  1  0  1  0  1\n",
       " 1  0  1  0  1  0\n",
       " 0  1  0  1  0  0\n",
       " 1  0  1  0  0  0"
      ]
     },
     "metadata": {},
     "output_type": "display_data"
    }
   ],
   "source": [
    "Z = zeros(Int, 6, 6)\n",
    "E = ones(Int, 6, 6)\n",
    "\n",
    "Z3 = copy(Z)\n",
    "# Создание матрицы Z2, используя закономерности расположения элементов\n",
    "for i in 1:6\n",
    "    for j in 1:6\n",
    "        if abs(i+j == 7) || (i+j == 5) || (i+j == 9)\n",
    "            Z3[i, j] = 1\n",
    "        end\n",
    "    end\n",
    "end\n",
    "\n",
    "println(\"\\nМатрица Z3:\")\n",
    "display(Z3)"
   ]
  },
  {
   "cell_type": "code",
   "execution_count": 14,
   "id": "feffd644-c9f0-421c-a301-a75b1b085f58",
   "metadata": {},
   "outputs": [
    {
     "name": "stdout",
     "output_type": "stream",
     "text": [
      "\n",
      "Матрица Z4:\n"
     ]
    },
    {
     "data": {
      "text/plain": [
       "6×6 Matrix{Int64}:\n",
       " 1  0  1  0  1  0\n",
       " 0  1  0  1  0  1\n",
       " 1  0  1  0  1  0\n",
       " 0  1  0  1  0  1\n",
       " 1  0  1  0  1  0\n",
       " 0  1  0  1  0  1"
      ]
     },
     "metadata": {},
     "output_type": "display_data"
    }
   ],
   "source": [
    "Z = zeros(Int, 6, 6)\n",
    "E = ones(Int, 6, 6)\n",
    "\n",
    "Z4 = copy(Z)\n",
    "# Создание матрицы Z2, используя закономерности расположения элементов\n",
    "for i in 1:6\n",
    "    for j in 1:6\n",
    "        if abs((i+j) % 2 == 0)\n",
    "            Z4[i, j] = 1\n",
    "        end\n",
    "    end\n",
    "end\n",
    "\n",
    "println(\"\\nМатрица Z4:\")\n",
    "display(Z4)"
   ]
  },
  {
   "cell_type": "markdown",
   "id": "a443bf28-ddea-40cb-80f8-be4de8022612",
   "metadata": {},
   "source": [
    "8. В языке R есть функция $outer()$. Фактически, это матричное умножение с возможностью изменить применяемую операцию (например, заменить произведение на\n",
    "сложение или возведение в степень).\\\n",
    "– Напишите свою функцию, аналогичную функции $outer()$ языка $R$. Функция\n",
    "должна иметь следующий интерфейс: $outer(x,y,operation)$. Таким образом,\n",
    "функция вида $outer(A,B,*)$ должна быть эквивалентна произведению матриц\n",
    "$𝐴$ и $𝐵$ размерностями $𝐿 × 𝑀$ и $𝑀 × 𝑁$ соответственно, где элементы результирующей матрицы $𝐶$ имеют вид $С_{ij}$ =$\\sum_{k=1}^{M}A_{ik}B_{jk}$ (или в тензорном виде $\\mathrm{C}_{k}^{j}$ =$\\sum_{k=1}^{M}\\mathrm{A}_{k}^{i}\\mathrm{B}_{j}^{k}$).\\\n",
    "– Используя написанную вами функцию $outer()$, создайте матрицы следующей\n",
    "структуры:\n",
    "\\\n",
    "$$A_{1}=\\begin{pmatrix}\n",
    "0 & 1 & 2 & 3 & 4 \\\\\n",
    "1 & 2 & 3 & 4 & 5 \\\\\n",
    "2 & 3 & 4 & 5 & 6 \\\\\n",
    "3 & 4 & 5 & 6 & 7 \\\\\n",
    "4 & 5 & 6 & 7 & 8\n",
    "\\end{pmatrix}\n",
    ",\\qquad\n",
    "A_{2}=\\begin{pmatrix}\n",
    "0 & 0 & 0 & 0 & 0 \\\\\n",
    "1 & 1 & 1 & 1 & 1 \\\\\n",
    "2 & 4 & 8 & 16 & 32 \\\\\n",
    "3 & 9 & 27 & 81 & 243 \\\\\n",
    "4 & 16 & 64 & 256 & 1024\n",
    "\\end{pmatrix}\n",
    ",\\qquad\n",
    "A_{3}=\\begin{pmatrix}\n",
    "0 & 1 & 2 & 3 & 4 \\\\\n",
    "1 & 2 & 3 & 4 & 0 \\\\\n",
    "2 & 3 & 4 & 0 & 1 \\\\\n",
    "3 & 4 & 0 & 1 & 2 \\\\\n",
    "4 & 0 & 1 & 2 & 3\n",
    "\\end{pmatrix}\n",
    "$$,\n",
    "\\\n",
    "$$A_{4}=\\begin{pmatrix}\n",
    "0 & 1 & 2 & 3 & 4 & 5 & 6 & 7 & 8 & 9 \\\\\n",
    "1 & 2 & 3 & 4 & 5 & 6 & 7 & 8 & 9 & 0 \\\\\n",
    "\\vdots & \\vdots & \\vdots & \\vdots & \\vdots & \\vdots & \\vdots & \\vdots & \\vdots & \\vdots  \\\\\n",
    "8 & 9 & 0 & 1 & 2 & 3 & 4 & 5 & 6 & 7 \\\\\n",
    "9 & 0 & 1 & 2 & 3 & 4 & 5 & 6 & 7 & 8 \n",
    "\\end{pmatrix}\n",
    ", \\qquad\n",
    "A_{5}=\\begin{pmatrix}\n",
    "0 & 8 & 7 & 6 & 5 & 4 & 3 & 2 & 1 \\\\\n",
    "1 & 0 & 8 & 7 & 6 & 5 & 4 & 3 & 2 \\\\\n",
    "2 & 1 & 0 & 8 & 7 & 6 & 5 & 4 & 3 \\\\\n",
    "3 & 2 & 1 & 0 & 8 & 7 & 6 & 5 & 4 \\\\\n",
    "4 & 3 & 2 & 1 & 0 & 8 & 7 & 6 & 5 \\\\\n",
    "5 & 4 & 3 & 2 & 1 & 0 & 8 & 7 & 6 \\\\\n",
    "6 & 5 & 4 & 3 & 2 & 1 & 0 & 8 & 7 \\\\\n",
    "7 & 6 & 5 & 4 & 3 & 2 & 1 & 0 & 8 \\\\\n",
    "8 & 7 & 6 & 5 & 4 & 3 & 2 & 1 & 0 \\\\\n",
    "\\end{pmatrix}\n",
    "$$.\n",
    "\\\n",
    "\\\n",
    "В каждом случае ваше решение должно быть легко обобщаемым на случай создания матриц большей размерности, но той же структуры."
   ]
  },
  {
   "cell_type": "code",
   "execution_count": 15,
   "id": "d0dcc287-dfb6-4feb-8f6c-4574ab565645",
   "metadata": {},
   "outputs": [
    {
     "name": "stdout",
     "output_type": "stream",
     "text": [
      "A1:\n"
     ]
    },
    {
     "data": {
      "text/plain": [
       "5×5 Matrix{Int64}:\n",
       " 0  1  2  3  4\n",
       " 1  2  3  4  5\n",
       " 2  3  4  5  6\n",
       " 3  4  5  6  7\n",
       " 4  5  6  7  8"
      ]
     },
     "metadata": {},
     "output_type": "display_data"
    },
    {
     "name": "stdout",
     "output_type": "stream",
     "text": [
      "\n",
      "A2:\n"
     ]
    },
    {
     "data": {
      "text/plain": [
       "5×5 Matrix{Int64}:\n",
       " 0   0   0    0     0\n",
       " 1   1   1    1     1\n",
       " 2   4   8   16    32\n",
       " 3   9  27   81   243\n",
       " 4  16  64  256  1024"
      ]
     },
     "metadata": {},
     "output_type": "display_data"
    },
    {
     "name": "stdout",
     "output_type": "stream",
     "text": [
      "\n",
      "A3:\n"
     ]
    },
    {
     "data": {
      "text/plain": [
       "5×5 Matrix{Int64}:\n",
       " 0  1  2  3  4\n",
       " 1  2  3  4  0\n",
       " 2  3  4  0  1\n",
       " 3  4  0  1  2\n",
       " 4  0  1  2  3"
      ]
     },
     "metadata": {},
     "output_type": "display_data"
    },
    {
     "name": "stdout",
     "output_type": "stream",
     "text": [
      "\n",
      "A4:\n"
     ]
    },
    {
     "data": {
      "text/plain": [
       "10×10 Matrix{Int64}:\n",
       " 0  1  2  3  4  5  6  7  8  9\n",
       " 1  2  3  4  5  6  7  8  9  0\n",
       " 2  3  4  5  6  7  8  9  0  1\n",
       " 3  4  5  6  7  8  9  0  1  2\n",
       " 4  5  6  7  8  9  0  1  2  3\n",
       " 5  6  7  8  9  0  1  2  3  4\n",
       " 6  7  8  9  0  1  2  3  4  5\n",
       " 7  8  9  0  1  2  3  4  5  6\n",
       " 8  9  0  1  2  3  4  5  6  7\n",
       " 9  0  1  2  3  4  5  6  7  8"
      ]
     },
     "metadata": {},
     "output_type": "display_data"
    },
    {
     "name": "stdout",
     "output_type": "stream",
     "text": [
      "\n",
      "A5:\n"
     ]
    },
    {
     "data": {
      "text/plain": [
       "9×9 Matrix{Int64}:\n",
       " 0  1  2  3  4  5  6  7  8\n",
       " 8  0  1  2  3  4  5  6  7\n",
       " 7  8  0  1  2  3  4  5  6\n",
       " 6  7  8  0  1  2  3  4  5\n",
       " 5  6  7  8  0  1  2  3  4\n",
       " 4  5  6  7  8  0  1  2  3\n",
       " 3  4  5  6  7  8  0  1  2\n",
       " 2  3  4  5  6  7  8  0  1\n",
       " 1  2  3  4  5  6  7  8  0"
      ]
     },
     "metadata": {},
     "output_type": "display_data"
    }
   ],
   "source": [
    "# Функция outer аналогичная функции outer в R\n",
    "function outer(x, y, operation)\n",
    "    L, M = size(x)\n",
    "    M, N = size(y)\n",
    "    \n",
    "    result = zeros(eltype(x), L, N)\n",
    "\n",
    "    for i in 1:L\n",
    "        for j in 1:N\n",
    "            result[i, j] = sum(operation(x[i, k], y[k, j]) for k in 1:M)\n",
    "        end\n",
    "    end\n",
    "\n",
    "    return result\n",
    "end\n",
    "\n",
    "# Создание матриц A1, A2, A3, A4, A5 с использованием outer\n",
    "A1 = outer(reshape(0:4, 5, 1), reshape(0:4, 1, 5), +)\n",
    "A2 = outer(reshape(0:4, 5, 1), reshape(1:5, 1, 5), ^)\n",
    "A3 = outer(hcat([[if i==j 1 else 0 end for j in 0:4] for i in 0:4]...), hcat([Vector(i:i+4).%5 for i in 0:4]...), .*)\n",
    "A4 = outer(hcat([[if i==j 1 else 0 end for j in 0:9] for i in 0:9]...), hcat([Vector(i:i+9).%10 for i in 0:9]...), .*)\n",
    "A5 = outer(hcat([[if i==j 1 else 0 end for j in 0:8] for i in 0:8]...), hcat([Vector(i+9:-1:i+1).%9 for i in 0:8]...), .*)\n",
    "\n",
    "# Вывод результатов\n",
    "println(\"A1:\")\n",
    "display(A1)\n",
    "\n",
    "println(\"\\nA2:\")\n",
    "display(A2)\n",
    "\n",
    "println(\"\\nA3:\")\n",
    "display(A3)\n",
    "\n",
    "println(\"\\nA4:\")\n",
    "display(A4)\n",
    "\n",
    "println(\"\\nA5:\")\n",
    "display(A5)"
   ]
  },
  {
   "cell_type": "markdown",
   "id": "f009640d-563e-41f0-9ee7-2a336fa02ffd",
   "metadata": {},
   "source": [
    "9. Решите следующую систему линейных уравнений с 5 неизвестными:\n",
    "\\\n",
    "\\\n",
    "$\\begin{cases}\n",
    "  x_{1}+2x_{2}+3x_{3}+4x_{4}+5x_{5}=7\\\\\n",
    "  2x_{1}+x_{2}+2x_{3}+3x_{4}+4x_{5}=-1\\\\\n",
    "  3x_{1}+2x_{2}+x_{3}+2x_{4}+3x_{5}=-3\\\\\n",
    "  4x_{1}+3x_{2}+2x_{3}+x_{4}+2x_{5}=5\\\\\n",
    "  5x_{1}+4x_{2}+3x_{3}+2x_{4}+x_{5}=17\\\\\n",
    "\\end{cases}\n",
    "$\n",
    "\n",
    "рассмотрев соответствующее матричное уравнение $Ax = 𝑦$. Обратите внимание на\n",
    "особый вид матрицы $𝐴$. Метод, используемый для решения данной системы уравнений, должен быть легко обобщаем на случай большего числа уравнений, где матрица\n",
    "$𝐴$ будет иметь такую же структуру."
   ]
  },
  {
   "cell_type": "code",
   "execution_count": 16,
   "id": "d4a75bd6-36de-4e9f-9973-1feaf8cd41aa",
   "metadata": {},
   "outputs": [
    {
     "name": "stdout",
     "output_type": "stream",
     "text": [
      "Матрица коэффициентов:\n"
     ]
    },
    {
     "data": {
      "text/plain": [
       "5×5 Matrix{Float64}:\n",
       " 1.0  2.0  3.0  4.0  5.0\n",
       " 2.0  1.0  2.0  3.0  4.0\n",
       " 3.0  2.0  1.0  2.0  3.0\n",
       " 4.0  3.0  2.0  1.0  2.0\n",
       " 5.0  4.0  3.0  2.0  1.0"
      ]
     },
     "metadata": {},
     "output_type": "display_data"
    },
    {
     "name": "stdout",
     "output_type": "stream",
     "text": [
      "Вектор решений:\n"
     ]
    },
    {
     "data": {
      "text/plain": [
       "5-element Vector{Float64}:\n",
       "  7.0\n",
       " -1.0\n",
       " -3.0\n",
       "  5.0\n",
       " 17.0"
      ]
     },
     "metadata": {},
     "output_type": "display_data"
    },
    {
     "name": "stdout",
     "output_type": "stream",
     "text": [
      "Вектор ответ:\n",
      "[-2.0000000000000036, 3.0000000000000058, 4.999999999999998, 1.9999999999999991, -3.999999999999999]\n"
     ]
    }
   ],
   "source": [
    "M = [1. 2. 3. 4. 5.; 2. 1. 2. 3. 4.; 3. 2. 1. 2. 3.; 4. 3. 2. 1. 2.; 5. 4. 3. 2. 1.] # Матрица (левая часть системы)\n",
    "v = [7. ,-1. ,-3. ,5. ,17.] # Вектор (правая часть системы)\n",
    "\n",
    "x = M \\ v\n",
    "\n",
    "println(\"Матрица коэффициентов:\")\n",
    "display(M)\n",
    "println(\"Вектор решений:\")\n",
    "display(v)\n",
    "println(\"Вектор ответ:\")\n",
    "println(x)"
   ]
  },
  {
   "cell_type": "markdown",
   "id": "0242f0ff-2eaa-4590-a256-d391f85506db",
   "metadata": {},
   "source": [
    "10. Создайте матрицу $𝑀$ размерности $6 × 10$, элементами которой являются целые числа, выбранные случайным образом с повторениями из совокупности $1, 2, … , 10$.\\\n",
    "– Найдите число элементов в каждой строке матрицы $𝑀$, которые больше числа $𝑁$\n",
    "(например, $𝑁 = 4$).\\\n",
    "– Определите, в каких строках матрицы $𝑀$ число $𝑀$(например,$𝑀 = 7$) встречается ровно 2 раза?\\\n",
    "– Определите все пары столбцов матрицы $𝑀$, сумма элементов которых больше $𝐾$\n",
    "(например, $𝐾 = 75$)."
   ]
  },
  {
   "cell_type": "code",
   "execution_count": 17,
   "id": "f14e60a9-dd2e-4675-90f6-24aeac52056f",
   "metadata": {},
   "outputs": [
    {
     "name": "stdout",
     "output_type": "stream",
     "text": [
      "Матрица M:\n"
     ]
    },
    {
     "data": {
      "text/plain": [
       "6×10 Matrix{Int64}:\n",
       "  8   2  8   7  10   4  2  9   6  2\n",
       "  7   4  9   8   6  10  5  9   4  4\n",
       " 10   8  7  10   4   1  1  6  10  9\n",
       "  4   4  5  10   9   9  1  7   7  6\n",
       "  9   8  8   9   6   7  3  8   4  4\n",
       "  9  10  6   8   6   4  3  6   6  9"
      ]
     },
     "metadata": {},
     "output_type": "display_data"
    },
    {
     "name": "stdout",
     "output_type": "stream",
     "text": [
      "Число элементов в каждой строке, больших 4:\n",
      "[6; 7; 7; 7; 7; 8;;]\n"
     ]
    }
   ],
   "source": [
    "using Random\n",
    "\n",
    "Random.seed!(30)\n",
    "\n",
    "rows = 6\n",
    "cols = 10\n",
    "\n",
    "M = rand(1:10, rows, cols)\n",
    "N = 4\n",
    "\n",
    "count_elements_greater_than_N = sum(M .> N, dims=2)\n",
    "\n",
    "println(\"Матрица M:\")\n",
    "display(M)\n",
    "println(\"Число элементов в каждой строке, больших $N:\")\n",
    "println(count_elements_greater_than_N)"
   ]
  },
  {
   "cell_type": "code",
   "execution_count": 18,
   "id": "bd3e901e-a6fc-41f4-b9c5-568aad95fa7b",
   "metadata": {},
   "outputs": [
    {
     "name": "stdout",
     "output_type": "stream",
     "text": [
      "Матрица M:\n"
     ]
    },
    {
     "data": {
      "text/plain": [
       "6×10 Matrix{Int64}:\n",
       "  8   2  8   7  10   4  2  9   6  2\n",
       "  7   4  9   8   6  10  5  9   4  4\n",
       " 10   8  7  10   4   1  1  6  10  9\n",
       "  4   4  5  10   9   9  1  7   7  6\n",
       "  9   8  8   9   6   7  3  8   4  4\n",
       "  9  10  6   8   6   4  3  6   6  9"
      ]
     },
     "metadata": {},
     "output_type": "display_data"
    },
    {
     "name": "stdout",
     "output_type": "stream",
     "text": [
      "Строки, в которых число M встречается ровно 2 раза:\n",
      "[4]\n"
     ]
    }
   ],
   "source": [
    "using Random\n",
    "\n",
    "Random.seed!(30)\n",
    "\n",
    "rows = 6\n",
    "cols = 10\n",
    "\n",
    "M = rand(1:10, rows, cols)\n",
    "\n",
    "M_value = 7\n",
    "\n",
    "rows_with_2_occurrences = findall(x -> count(isequal(M_value), x) == 2, eachrow(M))\n",
    "\n",
    "println(\"Матрица M:\")\n",
    "display(M)\n",
    "println(\"Строки, в которых число M встречается ровно 2 раза:\")\n",
    "println(rows_with_2_occurrences)"
   ]
  },
  {
   "cell_type": "code",
   "execution_count": 19,
   "id": "8de7c1c0-058e-4375-b998-29cecfeb88a1",
   "metadata": {},
   "outputs": [
    {
     "name": "stdout",
     "output_type": "stream",
     "text": [
      "Матрица M:"
     ]
    },
    {
     "data": {
      "text/plain": [
       "6×10 Matrix{Int64}:\n",
       "  8   2  8   7  10   4  2  9   6  2\n",
       "  7   4  9   8   6  10  5  9   4  4\n",
       " 10   8  7  10   4   1  1  6  10  9\n",
       "  4   4  5  10   9   9  1  7   7  6\n",
       "  9   8  8   9   6   7  3  8   4  4\n",
       "  9  10  6   8   6   4  3  6   6  9"
      ]
     },
     "metadata": {},
     "output_type": "display_data"
    },
    {
     "name": "stdout",
     "output_type": "stream",
     "text": [
      "\n",
      "Пары столбцов, сумма элементов которых больше 75:\n",
      "[(1, 2), (1, 3), (1, 4), (1, 5), (1, 6), (1, 8), (1, 9), (1, 10), (2, 3), (2, 4), (2, 5), (2, 8), (3, 4), (3, 5), (3, 6), (3, 8), (3, 9), (3, 10), (4, 5), (4, 6), (4, 8), (4, 9), (4, 10), (5, 6), (5, 8), (5, 9), (6, 8), (8, 9), (8, 10)]\n"
     ]
    }
   ],
   "source": [
    "using Random\n",
    "\n",
    "Random.seed!(30)\n",
    "\n",
    "rows = 6\n",
    "cols = 10\n",
    "\n",
    "M = rand(1:10, rows, cols)\n",
    "\n",
    "K = 75\n",
    "\n",
    "column_pairs = [(i, j) for i in 1:cols-1 for j in i+1:cols if sum(M[:, i] + M[:, j]) > K]\n",
    "\n",
    "println(\"Матрица M:\")\n",
    "display(M)\n",
    "println(\"Пары столбцов, сумма элементов которых больше $K:\")\n",
    "println(column_pairs)"
   ]
  },
  {
   "cell_type": "markdown",
   "id": "b0697e6d-c533-40b8-9b21-598ef2062b1a",
   "metadata": {},
   "source": [
    "11. Вычислите:\\\n",
    "-$\\sum_{i=1}^{20}\\sum_{j=1}^{5}\\frac{i^4}{(3+j)}$,\n",
    "\\\n",
    "-$\\sum_{i=1}^{20}\\sum_{j=1}^{5}\\frac{i^4}{(3+ij)}$."
   ]
  },
  {
   "cell_type": "code",
   "execution_count": 20,
   "id": "483b38e0-4ad1-49b9-ab0f-0901b94d7493",
   "metadata": {},
   "outputs": [
    {
     "name": "stdout",
     "output_type": "stream",
     "text": [
      "Результат вычисления суммы: 639215.2833333334\n"
     ]
    }
   ],
   "source": [
    "result = 0.0\n",
    "\n",
    "for i in 1:20\n",
    "    for j in 1:5\n",
    "        result += i^4 / (3 + j)\n",
    "    end\n",
    "end\n",
    "\n",
    "println(\"Результат вычисления суммы: \", result)"
   ]
  },
  {
   "cell_type": "code",
   "execution_count": 21,
   "id": "46c280ba-1417-4c06-aa47-d959f43557af",
   "metadata": {},
   "outputs": [
    {
     "name": "stdout",
     "output_type": "stream",
     "text": [
      "Результат вычисления суммы: 89912.02146097136\n"
     ]
    }
   ],
   "source": [
    "result = 0.0\n",
    "\n",
    "for i in 1:20\n",
    "    for j in 1:5\n",
    "        result += i^4 / (3 + i*j)\n",
    "    end\n",
    "end\n",
    "\n",
    "println(\"Результат вычисления суммы: \", result)"
   ]
  },
  {
   "cell_type": "markdown",
   "id": "520dbfa7-1bb7-4be4-8b02-90aea0be919b",
   "metadata": {},
   "source": [
    "Выводы:"
   ]
  },
  {
   "cell_type": "markdown",
   "id": "bfc1aadf-98b5-44fc-9683-748a9df9e42b",
   "metadata": {},
   "source": [
    "Мною освоены применения циклов функций и сторонних для Julia пакетов для решения задач линейной алгебры и работы с матрицами."
   ]
  },
  {
   "cell_type": "markdown",
   "id": "9e0ba8a6-98c0-4089-a411-9cff274d0322",
   "metadata": {},
   "source": [
    "Список литературы:"
   ]
  },
  {
   "cell_type": "markdown",
   "id": "8f31544c-0533-4972-bb71-7eebd4696e36",
   "metadata": {},
   "source": [
    "Julia 1.5 Documentation. — 2020. — URL: https://docs.julialang.org/en/v1/.\\\n",
    "Klok H.,Nazarathy Y. Statistics with Julia: Fundamentals for Data Science,Machine Learning and Artificial Intelligence. — 2020. — URL: https://statisticswithjulia.org/.\\\n",
    "Ökten G. First Semester in Numerical Analysis with Julia. — Florida State University, 2019. — DOI: 10.33009/jul.\\\n",
    "Антонюк В. А. Язык Julia как инструмент исследователя. — М. : Физический факультет МГУ им. М. В. Ломоносова, 2019.\\\n",
    "Шиндин А. В. Язык программирования математических вычислений Julia. Базовое руководство. — Нижний Новгород : Нижегородский госуниверситет, 2016.\\\n",
    "Задание лабораторной работы №3 - https://esystem.rudn.ru/pluginfile.php/2231400/mod_resource/content/2/003-lab_control-structures.pdf"
   ]
  }
 ],
 "metadata": {
  "kernelspec": {
   "display_name": "Julia 1.8.5",
   "language": "julia",
   "name": "julia-1.8"
  },
  "language_info": {
   "file_extension": ".jl",
   "mimetype": "application/julia",
   "name": "julia",
   "version": "1.8.5"
  }
 },
 "nbformat": 4,
 "nbformat_minor": 5
}
