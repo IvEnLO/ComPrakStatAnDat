{
 "cells": [
  {
   "cell_type": "markdown",
   "id": "f25a8985-dc99-4655-a930-d943b7b05457",
   "metadata": {},
   "source": [
    "Цель работы:"
   ]
  },
  {
   "cell_type": "markdown",
   "id": "281b9d0e-1706-4c8c-9782-db487e1d4fbf",
   "metadata": {},
   "source": [
    "Основной целью работы является изучение возможностей специализированных пакетов Julia для выполнения и оценки эффективности операций над объектами линейной\r\n",
    "алгебры."
   ]
  },
  {
   "cell_type": "code",
   "execution_count": 1,
   "id": "4b0d211a-4fad-4236-b5a0-187ae4fb3433",
   "metadata": {},
   "outputs": [
    {
     "name": "stdout",
     "output_type": "stream",
     "text": [
      "Sat Nov 25 23:37:41 RTZ 2023\n"
     ]
    }
   ],
   "source": [
    ";date"
   ]
  },
  {
   "cell_type": "code",
   "execution_count": 2,
   "id": "73bd9e33-0015-4902-989b-591d654287ef",
   "metadata": {},
   "outputs": [
    {
     "name": "stdout",
     "output_type": "stream",
     "text": [
      "win-orl1fa978ms\\admin\n"
     ]
    }
   ],
   "source": [
    ";whoami"
   ]
  },
  {
   "cell_type": "markdown",
   "id": "02536969-c44f-4678-82f6-382ed48bf0cb",
   "metadata": {},
   "source": [
    "Часть 1: Произведение векторов"
   ]
  },
  {
   "cell_type": "markdown",
   "id": "3fb7270d-8995-45b3-9e3d-db2aaf61150c",
   "metadata": {},
   "source": [
    "1. Задайте вектор $v$. Умножьте вектор $v$ скалярно сам на себя и сохраните результат в $ dot\\_v$."
   ]
  },
  {
   "cell_type": "code",
   "execution_count": 3,
   "id": "64b9a778-068e-4c7f-a0ea-2dd4e230728d",
   "metadata": {},
   "outputs": [
    {
     "name": "stdout",
     "output_type": "stream",
     "text": [
      "Вектор v:\n"
     ]
    },
    {
     "data": {
      "text/plain": [
       "1×9 Matrix{Int64}:\n",
       " 1  2  3  4  5  6  7  8  9"
      ]
     },
     "metadata": {},
     "output_type": "display_data"
    },
    {
     "name": "stdout",
     "output_type": "stream",
     "text": [
      "Вектор dot_v:\n"
     ]
    },
    {
     "data": {
      "text/plain": [
       "285"
      ]
     },
     "metadata": {},
     "output_type": "display_data"
    }
   ],
   "source": [
    "using LinearAlgebra\n",
    "v = [1 2 3 4 5 6 7 8 9]\n",
    "dot_v = dot(v, v)\n",
    "\n",
    "println(\"Вектор v:\")\n",
    "display(v)\n",
    "\n",
    "println(\"Вектор dot_v:\")\n",
    "display(dot_v)"
   ]
  },
  {
   "cell_type": "markdown",
   "id": "4f2bb724-99d9-41fe-a3f5-9bc23bf871d6",
   "metadata": {},
   "source": [
    "2. Умножьте $v$ матрично на себя (внешнее произведение), присвоив результат переменной $outer\\_v$."
   ]
  },
  {
   "cell_type": "code",
   "execution_count": 4,
   "id": "9ae3d7e1-b306-4a42-b0db-6b4d5d8593a7",
   "metadata": {},
   "outputs": [
    {
     "name": "stdout",
     "output_type": "stream",
     "text": [
      "Вектор v:\n"
     ]
    },
    {
     "data": {
      "text/plain": [
       "1×9 Matrix{Int64}:\n",
       " 1  2  3  4  5  6  7  8  9"
      ]
     },
     "metadata": {},
     "output_type": "display_data"
    },
    {
     "name": "stdout",
     "output_type": "stream",
     "text": [
      "Матрица outer_v:\n"
     ]
    },
    {
     "data": {
      "text/plain": [
       "9×9 Matrix{Int64}:\n",
       " 1   2   3   4   5   6   7   8   9\n",
       " 2   4   6   8  10  12  14  16  18\n",
       " 3   6   9  12  15  18  21  24  27\n",
       " 4   8  12  16  20  24  28  32  36\n",
       " 5  10  15  20  25  30  35  40  45\n",
       " 6  12  18  24  30  36  42  48  54\n",
       " 7  14  21  28  35  42  49  56  63\n",
       " 8  16  24  32  40  48  56  64  72\n",
       " 9  18  27  36  45  54  63  72  81"
      ]
     },
     "execution_count": 4,
     "metadata": {},
     "output_type": "execute_result"
    }
   ],
   "source": [
    "using LinearAlgebra\n",
    "v = [1 2 3 4 5 6 7 8 9]\n",
    "outer_v = kron(v, v)\n",
    "\n",
    "println(\"Вектор v:\")\n",
    "display(v)\n",
    "\n",
    "println(\"Матрица outer_v:\")\n",
    "reshape(outer_v, (9, 9))"
   ]
  },
  {
   "cell_type": "markdown",
   "id": "59a75983-784b-4175-9120-559a5ad51aaa",
   "metadata": {},
   "source": [
    "Часть 2:  Системы линейных уравнений"
   ]
  },
  {
   "cell_type": "markdown",
   "id": "e85d26ac-8e5a-4e25-8539-991969130ee2",
   "metadata": {},
   "source": [
    "3. Решить СЛАУ с двумя неизвестными.\n",
    "\\\n",
    "$$\\begin{cases}\n",
    "  x+y=2\\\\\n",
    "  x-y=3\n",
    "\\end{cases}\\\n",
    ",(3.1) \\qquad\n",
    "\\begin{cases}\n",
    "  x+y=2\\\\\n",
    "  2x+2y=4\\\\\n",
    "\\end{cases}\n",
    ",(3.2) \\qquad\n",
    "\\begin{cases}\n",
    "  x+y=2\\\\\n",
    "  2x+2y=5\\\\\n",
    "\\end{cases}\\\n",
    ",(3.3) \\qquad\n",
    "\\begin{cases}\n",
    "  x+y=1\\\\\n",
    "  2x+2y=2\\\\\n",
    "  3x+3y=3\\\\\n",
    "\\end{cases}\\\n",
    ",(3.4) \\qquad\n",
    "\\begin{cases}\n",
    "  x+y=2\\\\\n",
    "  2x+y=1\\\\\n",
    "  x-y=3\\\\\n",
    "\\end{cases}\\\n",
    ",(3.5) \\qquad\n",
    "\\begin{cases}\n",
    "  x+y=2\\\\\n",
    "  2x+y=1\\\\\n",
    "  3x+2y=3\\\\\n",
    "\\end{cases}\\\n",
    ",(3.6)\n",
    "$$"
   ]
  },
  {
   "cell_type": "code",
   "execution_count": 5,
   "id": "b033243b-99bf-4c23-b6ef-dfc3c72f04f7",
   "metadata": {},
   "outputs": [
    {
     "name": "stdout",
     "output_type": "stream",
     "text": [
      "[2.5, -0.5]\n"
     ]
    }
   ],
   "source": [
    "# 3.1\n",
    "using LinearAlgebra\n",
    "\n",
    "# Коэффициенты уравнений\n",
    "A = [1 1; 1 -1]\n",
    "b = [2, 3]\n",
    "\n",
    "function proverca(A, b) # Решение СЛАУ\n",
    "    try  A\\b\n",
    "    catch e\n",
    "        return \"Нет решения или их число бесконечное.\"\n",
    "    else\n",
    "        return A\\b\n",
    "    end\n",
    "end\n",
    "println(proverca(A, b))"
   ]
  },
  {
   "cell_type": "code",
   "execution_count": 6,
   "id": "e7f28ee4-1743-4ad3-9d14-4e697c1c7626",
   "metadata": {},
   "outputs": [
    {
     "name": "stdout",
     "output_type": "stream",
     "text": [
      "Нет решения или их число бесконечное.\n"
     ]
    }
   ],
   "source": [
    "# 3.2\n",
    "using LinearAlgebra\n",
    "\n",
    "# Коэффициенты уравнений\n",
    "A = [1 1; 2 2]\n",
    "b = [2, 4]\n",
    "\n",
    "function proverca(A, b) # Решение СЛАУ\n",
    "    try  A\\b\n",
    "    catch e\n",
    "        return \"Нет решения или их число бесконечное.\"\n",
    "    else\n",
    "        return A\\b\n",
    "    end\n",
    "end\n",
    "println(proverca(A, b))"
   ]
  },
  {
   "cell_type": "code",
   "execution_count": 7,
   "id": "ea7c1bfc-f6d7-4559-970e-cdf4ba2691ad",
   "metadata": {},
   "outputs": [
    {
     "name": "stdout",
     "output_type": "stream",
     "text": [
      "Нет решения или их число бесконечное.\n"
     ]
    }
   ],
   "source": [
    "# 3.3\n",
    "using LinearAlgebra\n",
    "\n",
    "# Коэффициенты уравнений\n",
    "A = [1 1; 2 2]\n",
    "b = [2, 5]\n",
    "\n",
    "function proverca(A, b) # Решение СЛАУ\n",
    "    try  A\\b\n",
    "    catch e\n",
    "        return \"Нет решения или их число бесконечное.\"\n",
    "    else\n",
    "        return A\\b\n",
    "    end\n",
    "end\n",
    "println(proverca(A, b))"
   ]
  },
  {
   "cell_type": "code",
   "execution_count": 8,
   "id": "deb5a820-da48-45f7-9102-4fdaaabb8fbc",
   "metadata": {},
   "outputs": [
    {
     "name": "stdout",
     "output_type": "stream",
     "text": [
      "[0.4999999999999999, 0.5]\n"
     ]
    }
   ],
   "source": [
    "# 3.4\n",
    "using LinearAlgebra\n",
    "\n",
    "# Коэффициенты уравнений\n",
    "A = [1 1; 2 2; 3 3]\n",
    "b = [1, 2, 3]\n",
    "\n",
    "function proverca(A, b) # Решение СЛАУ\n",
    "    try  A\\b\n",
    "    catch e\n",
    "        return \"Нет решения или их число бесконечное.\"\n",
    "    else\n",
    "        return A\\b\n",
    "    end\n",
    "end\n",
    "println(proverca(A, b))"
   ]
  },
  {
   "cell_type": "code",
   "execution_count": 9,
   "id": "6ff253b1-6fa1-4215-a318-346a3b7d34d3",
   "metadata": {},
   "outputs": [
    {
     "name": "stdout",
     "output_type": "stream",
     "text": [
      "[1.5000000000000004, -0.9999999999999997]\n"
     ]
    }
   ],
   "source": [
    "# 3.5\n",
    "using LinearAlgebra\n",
    "\n",
    "# Коэффициенты уравнений\n",
    "A = [1 1; 2 1; 1 -1]\n",
    "b = [2, 1, 3]\n",
    "\n",
    "function proverca(A, b) # Решение СЛАУ\n",
    "    try  A\\b\n",
    "    catch e\n",
    "        return \"Нет решения или их число бесконечное.\"\n",
    "    else\n",
    "        return A\\b\n",
    "    end\n",
    "end\n",
    "println(proverca(A, b))"
   ]
  },
  {
   "cell_type": "code",
   "execution_count": 10,
   "id": "082bce5c-0f67-46d9-8a60-f5f84a6e0059",
   "metadata": {},
   "outputs": [
    {
     "name": "stdout",
     "output_type": "stream",
     "text": [
      "[-0.9999999999999989, 2.9999999999999982]\n"
     ]
    }
   ],
   "source": [
    "# 3.6\n",
    "using LinearAlgebra\n",
    "\n",
    "# Коэффициенты уравнений\n",
    "A = [1 1; 2 1; 3 2]\n",
    "b = [2, 1, 3]\n",
    "\n",
    "function proverca(A, b) # Решение СЛАУ\n",
    "    try  A\\b\n",
    "    catch e\n",
    "        return \"Нет решения или их число бесконечное.\"\n",
    "    else\n",
    "        return A\\b\n",
    "    end\n",
    "end\n",
    "println(proverca(A, b))"
   ]
  },
  {
   "cell_type": "markdown",
   "id": "5e84123f-eb6d-4029-bebe-e3f2e9789c2b",
   "metadata": {},
   "source": [
    "4. Решить СЛАУ с тремя неизвестными.\n",
    "$$\\begin{cases}\n",
    "  x+y+z=2\\\\\n",
    "  x-y-2z=3\n",
    "\\end{cases}\\\n",
    ",(4.1) \\qquad\n",
    "\\begin{cases}\n",
    "  x+y+z=2\\\\\n",
    "  2x+2y-3z=4\\\\\n",
    "  3x+y+z=1\\\\\n",
    "\\end{cases}\n",
    ",(4.2) \\qquad\n",
    "\\begin{cases}\n",
    "  x+y+z=1\\\\\n",
    "  x+y+2z=0\\\\\n",
    "  2x+2y+3z=1\\\\\n",
    "\\end{cases}\\\n",
    ",(4.3) \\qquad\n",
    "\\begin{cases}\n",
    "  x+y+z=1\\\\\n",
    "  x+y+2z=0\\\\\n",
    "  2x+2y+3z=0\\\\\n",
    "\\end{cases}\\\n",
    ",(4.4) \n",
    "$$"
   ]
  },
  {
   "cell_type": "code",
   "execution_count": 11,
   "id": "3b734d62-9e14-4a3e-9691-bba694b370a6",
   "metadata": {},
   "outputs": [
    {
     "name": "stdout",
     "output_type": "stream",
     "text": [
      "[2.2142857142857144, 0.35714285714285704, -0.5714285714285712]\n"
     ]
    }
   ],
   "source": [
    "# 4.1\n",
    "using LinearAlgebra\n",
    "\n",
    "# Коэффициенты уравнений\n",
    "A = [1 1 1; 1 -1 -2]\n",
    "b = [2, 3]\n",
    "\n",
    "function proverca(A, b)\n",
    "    try  A\\b\n",
    "    catch e\n",
    "        return \"Нет решения или их число бесконечное.\"\n",
    "    else\n",
    "        return A\\b\n",
    "    end\n",
    "end\n",
    "println(proverca(A, b))"
   ]
  },
  {
   "cell_type": "code",
   "execution_count": 12,
   "id": "1f0c53f8-5dcf-4086-89ef-946d960e697e",
   "metadata": {},
   "outputs": [
    {
     "name": "stdout",
     "output_type": "stream",
     "text": [
      "[-0.5, 2.5, 0.0]\n"
     ]
    }
   ],
   "source": [
    "# 4.2\n",
    "using LinearAlgebra\n",
    "\n",
    "# Коэффициенты уравнений\n",
    "A = [1 1 1; 2 2 -3; 3 1 1]\n",
    "b = [2, 4, 1]\n",
    "\n",
    "function proverca(A, b)\n",
    "    try  A\\b\n",
    "    catch e\n",
    "        return \"Нет решения или их число бесконечное.\"\n",
    "    else\n",
    "        return A\\b\n",
    "    end\n",
    "end\n",
    "println(proverca(A, b))"
   ]
  },
  {
   "cell_type": "code",
   "execution_count": 13,
   "id": "6f871931-0fbd-40f1-9771-1799e5218168",
   "metadata": {},
   "outputs": [
    {
     "name": "stdout",
     "output_type": "stream",
     "text": [
      "Нет решения или их число бесконечное.\n"
     ]
    }
   ],
   "source": [
    "# 4.3\n",
    "using LinearAlgebra\n",
    "\n",
    "# Коэффициенты уравнений\n",
    "A = [1 1 1; 1 1 2; 2 2 3]\n",
    "b = [1, 0, 1]\n",
    "\n",
    "function proverca(A, b)\n",
    "    try  A\\b\n",
    "    catch e\n",
    "        return \"Нет решения или их число бесконечное.\"\n",
    "    else\n",
    "        return A\\b\n",
    "    end\n",
    "end\n",
    "println(proverca(A, b))"
   ]
  },
  {
   "cell_type": "code",
   "execution_count": 14,
   "id": "6e4e355e-8277-4bfb-bc89-1760a69d71d6",
   "metadata": {},
   "outputs": [
    {
     "name": "stdout",
     "output_type": "stream",
     "text": [
      "Нет решения или их число бесконечное.\n"
     ]
    }
   ],
   "source": [
    "# 4.4\n",
    "using LinearAlgebra\n",
    "\n",
    "# Коэффициенты уравнений\n",
    "A = [1 1 1; 1 1 2; 2 2 3]\n",
    "b = [1, 0, 0]\n",
    "\n",
    "function proverca(A, b)\n",
    "    try  A\\b\n",
    "    catch e\n",
    "        return \"Нет решения или их число бесконечное.\"\n",
    "    else\n",
    "        return A\\b\n",
    "    end\n",
    "end\n",
    "println(proverca(A, b))"
   ]
  },
  {
   "cell_type": "markdown",
   "id": "eda2f788-4e3f-4c80-a23e-6a18238721ab",
   "metadata": {},
   "source": [
    "Часть 3: Операции с матрицами"
   ]
  },
  {
   "cell_type": "markdown",
   "id": "f61379b8-7b0e-4df6-bce8-342fabf27716",
   "metadata": {},
   "source": [
    "5. Приведите приведённые ниже матрицы к диагональному виду.\n",
    "\\\n",
    "$$\n",
    "\\begin{pmatrix}\n",
    "    1 & -2 \\\\\n",
    "    -2 & 1\n",
    "\\end{pmatrix}\n",
    ",(5.1) \\qquad\n",
    "\\begin{pmatrix}\n",
    "    1 & -2 \\\\\n",
    "    -2 & 3\n",
    "\\end{pmatrix}\n",
    ",(5.2) \\qquad\n",
    "\\begin{pmatrix}\n",
    "    1 & -2 & 0 \\\\\n",
    "    -2 & 1 & 2 \\\\\n",
    "    0 & -2 & 0\n",
    "\\end{pmatrix}\n",
    ",(5.3)\n",
    "$$"
   ]
  },
  {
   "cell_type": "code",
   "execution_count": 15,
   "id": "80aa9810-7e8d-4e4c-876b-5857cda742d7",
   "metadata": {},
   "outputs": [
    {
     "data": {
      "text/plain": [
       "2×2 Diagonal{Int64, Vector{Int64}}:\n",
       " 1  ⋅\n",
       " ⋅  1"
      ]
     },
     "metadata": {},
     "output_type": "display_data"
    }
   ],
   "source": [
    "# 5.1\n",
    "function Diagonal_vid(матрица)\n",
    "    Diag_M = Diagonal(матрица)\n",
    "    return Diag_M\n",
    "end\n",
    "\n",
    "# Пример использования\n",
    "A1 = [1 -2; -2 1]\n",
    "\n",
    "Diag_M1 = Diagonal_vid(A1)\n",
    "\n",
    "display(Diag_M1)"
   ]
  },
  {
   "cell_type": "code",
   "execution_count": 16,
   "id": "439b9b73-299c-44f0-976e-2423d1243f4e",
   "metadata": {},
   "outputs": [
    {
     "data": {
      "text/plain": [
       "2×2 Diagonal{Int64, Vector{Int64}}:\n",
       " 1  ⋅\n",
       " ⋅  3"
      ]
     },
     "metadata": {},
     "output_type": "display_data"
    }
   ],
   "source": [
    "# 5.2\n",
    "function Diagonal_vid(Matrica)\n",
    "    Diag_M = Diagonal(Matrica)\n",
    "    return Diag_M\n",
    "end\n",
    "\n",
    "# Пример использования\n",
    "A2 = [1 -2; -2 3]\n",
    "\n",
    "Diag_M1 = Diagonal_vid(A2)\n",
    "\n",
    "display(Diag_M1)"
   ]
  },
  {
   "cell_type": "code",
   "execution_count": 17,
   "id": "5f5f11fa-43b2-4016-9473-9e08bfaa6fe8",
   "metadata": {},
   "outputs": [
    {
     "data": {
      "text/plain": [
       "3×3 Diagonal{Int64, Vector{Int64}}:\n",
       " 1  ⋅  ⋅\n",
       " ⋅  1  ⋅\n",
       " ⋅  ⋅  0"
      ]
     },
     "metadata": {},
     "output_type": "display_data"
    }
   ],
   "source": [
    "# 5.3\n",
    "function Diagonal_vid(Matrica)\n",
    "    Diag_M = Diagonal(Matrica)\n",
    "    return Diag_M\n",
    "end\n",
    "\n",
    "# Пример использования\n",
    "A3 = [1 -2 0; -2 1 2; 0 -2 0]\n",
    "\n",
    "Diag_M1 = Diagonal_vid(A3)\n",
    "\n",
    "display(Diag_M1)"
   ]
  },
  {
   "cell_type": "markdown",
   "id": "4dfe954a-11ae-4535-9d96-8af8a2e05062",
   "metadata": {},
   "source": [
    "6. Вычислите\n",
    "\\\n",
    "$$\\begin{pmatrix}\n",
    "1 & -2 \\\\\n",
    "-2 & 1\n",
    "\\end{pmatrix}^{10}\n",
    ",(6.1) \\qquad\n",
    "\\sqrt{\\begin{pmatrix}\n",
    "  5 & -2 \\\\\n",
    "  -2 & 5 \n",
    "\\end{pmatrix}}\n",
    ",(6.2) \\qquad\n",
    "\\sqrt[3]{\\begin{pmatrix}\n",
    "  1 & -2 \\\\\n",
    "  -2 & 1 \n",
    "\\end{pmatrix}}\n",
    ",(6.3) \\qquad\n",
    "\\sqrt{\\begin{pmatrix}\n",
    "  1 & 2 \\\\\n",
    "  2 & 3 \n",
    "\\end{pmatrix}}\n",
    ",(6.4)\n",
    "$$"
   ]
  },
  {
   "cell_type": "code",
   "execution_count": 18,
   "id": "0470d39d-b2ea-4edd-b94f-c9349a70877c",
   "metadata": {},
   "outputs": [
    {
     "data": {
      "text/plain": [
       "2×2 Matrix{Int64}:\n",
       "  29525  -29524\n",
       " -29524   29525"
      ]
     },
     "metadata": {},
     "output_type": "display_data"
    }
   ],
   "source": [
    "# 6.1\n",
    "A = [1 -2; -2 1]\n",
    "B = A^10\n",
    "display(B)"
   ]
  },
  {
   "cell_type": "code",
   "execution_count": 19,
   "id": "37ae2304-d16f-4f9e-9994-4403fb0ef89e",
   "metadata": {},
   "outputs": [
    {
     "data": {
      "text/plain": [
       "2×2 Matrix{Float64}:\n",
       " 1.73205  0.0\n",
       " 0.0      2.64575"
      ]
     },
     "metadata": {},
     "output_type": "display_data"
    }
   ],
   "source": [
    "# 6.2\n",
    "A = [5 -2; -2 5]\n",
    "X = eigvecs(A)\n",
    "el = eigvals(A)\n",
    "el_diag = Diagonal(el)\n",
    "el_end = [(z)^(1/2) for z in el_diag]\n",
    "B = X*(X^(-1))*(el_end)\n",
    "display(B)"
   ]
  },
  {
   "cell_type": "code",
   "execution_count": 20,
   "id": "cfdf3d2c-e804-43cc-b41e-1616d718e10b",
   "metadata": {},
   "outputs": [
    {
     "data": {
      "text/plain": [
       "2×2 Matrix{ComplexF64}:\n",
       " 0.5+0.866025im      0.0+0.0im\n",
       " 0.0+0.0im       1.44225+0.0im"
      ]
     },
     "metadata": {},
     "output_type": "display_data"
    }
   ],
   "source": [
    "# 6.3\n",
    "A = [1.0 -2.0; -2.0 1.0]\n",
    "X = eigvecs(A)\n",
    "el = eigvals(A)\n",
    "el_diag = Diagonal(el)\n",
    "el_end = [(z + 0*im)^(1/3) for z in el_diag]\n",
    "B = X*(X^(-1))*(el_end)\n",
    "display(B)"
   ]
  },
  {
   "cell_type": "code",
   "execution_count": 21,
   "id": "e3e49f37-abc7-44b8-9b55-309f2d32ac1e",
   "metadata": {},
   "outputs": [
    {
     "data": {
      "text/plain": [
       "2×2 Matrix{ComplexF64}:\n",
       " 0.0+0.485868im     1.14251e-16+0.0im\n",
       " 0.0-2.69711e-17im      2.05817+0.0im"
      ]
     },
     "metadata": {},
     "output_type": "display_data"
    }
   ],
   "source": [
    "# 6.4\n",
    "A = [1 2; 2 3]\n",
    "X = eigvecs(A)\n",
    "el = eigvals(A)\n",
    "el_diag = Diagonal(el)\n",
    "el_end = [(z + 0*im)^(1/2) for z in el_diag]\n",
    "B = X*(X^(-1))*(el_end)\n",
    "display(B)"
   ]
  },
  {
   "cell_type": "markdown",
   "id": "2daf3781-0c96-4416-a31f-0eb4e91b1dc8",
   "metadata": {},
   "source": [
    "7. Найдите собственные значения матрицы $𝐴$, если\n",
    "\\\n",
    "$$A=\\begin{pmatrix}\n",
    "    140 & 97 & 74 & 168 & 131 \\\\\n",
    "    97 & 106 & 89 & 131 & 36 \\\\\n",
    "    74 & 89 & 152 & 144 & 71 \\\\\n",
    "    168 & 131 & 144 & 54 & 142 \\\\\n",
    "    131 & 36 & 71 & 142 & 36\n",
    "\\end{pmatrix}\n",
    "$$\n",
    "\\\n",
    "\\\n",
    "Создайте диагональную матрицу из собственных значений матрицы $𝐴$. Создайте нижнедиагональную матрицу из матрица $𝐴$. Оцените эффективность выполняемых\n",
    "операций."
   ]
  },
  {
   "cell_type": "code",
   "execution_count": 22,
   "id": "2278536d-65c7-4e52-98b1-f297c0a1b102",
   "metadata": {},
   "outputs": [
    {
     "name": "stdout",
     "output_type": "stream",
     "text": [
      "Собственные значения матрицы A:\n",
      "\n"
     ]
    },
    {
     "data": {
      "text/plain": [
       "5-element Vector{Float64}:\n",
       " -128.49322764802145\n",
       "  -55.887784553056875\n",
       "   42.7521672793189\n",
       "   87.16111477514521\n",
       "  542.4677301466143"
      ]
     },
     "metadata": {},
     "output_type": "display_data"
    },
    {
     "name": "stdout",
     "output_type": "stream",
     "text": [
      "Диагональная матрица из собственных значений:\n",
      "\n"
     ]
    },
    {
     "data": {
      "text/plain": [
       "5×5 Diagonal{Float64, Vector{Float64}}:\n",
       " -128.493     ⋅        ⋅        ⋅         ⋅ \n",
       "     ⋅     -55.8878    ⋅        ⋅         ⋅ \n",
       "     ⋅        ⋅      42.7522    ⋅         ⋅ \n",
       "     ⋅        ⋅        ⋅      87.1611     ⋅ \n",
       "     ⋅        ⋅        ⋅        ⋅      542.468"
      ]
     },
     "metadata": {},
     "output_type": "display_data"
    },
    {
     "name": "stdout",
     "output_type": "stream",
     "text": [
      "Нижнедиагональная матрица из матрицы A:\n",
      "\n"
     ]
    },
    {
     "data": {
      "text/plain": [
       "5×5 Tridiagonal{Int64, Vector{Int64}}:\n",
       "  0   0    ⋅    ⋅  ⋅\n",
       " 97   0    0    ⋅  ⋅\n",
       "  ⋅  89    0    0  ⋅\n",
       "  ⋅   ⋅  144    0  0\n",
       "  ⋅   ⋅    ⋅  142  0"
      ]
     },
     "metadata": {},
     "output_type": "display_data"
    }
   ],
   "source": [
    "# 7.1\n",
    "A = [140  97   74   168  131; 97   106  89   131  36; 74   89   152  144  71; 168  131  144  54   142; 131  36   71   142  36]\n",
    "\n",
    "# Находим собственные значения матрицы A\n",
    "sobs_znach= eigvals(A)\n",
    "println(\"Собственные значения матрицы A:\\n\")\n",
    "display(sobs_znach)\n",
    "\n",
    "# Создаем диагональную матрицу из собственных значений\n",
    "diag_matrix = Diagonal(sobs_znach)\n",
    "println(\"Диагональная матрица из собственных значений:\\n\")\n",
    "display(diag_matrix)\n",
    "\n",
    "# Создаем нижнедиагональную матрицу из матрицы A\n",
    "low_diag_matrix = Bidiagonal(A, :L)\n",
    "low_diag_matrix = low_diag_matrix .- Diagonal(A)\n",
    "println(\"Нижнедиагональная матрица из матрицы A:\\n\")\n",
    "display(low_diag_matrix)"
   ]
  },
  {
   "cell_type": "markdown",
   "id": "74a2044a-6ff3-4e25-bb9d-84131f5e08de",
   "metadata": {},
   "source": [
    "Часть 4: Линейные модели экономики"
   ]
  },
  {
   "cell_type": "markdown",
   "id": "8d202369-957e-43b9-8732-69f881fb1fd1",
   "metadata": {},
   "source": [
    "Линейная модель экономики может быть записана как СЛАУ\n",
    "$𝑥 − 𝐴𝑥 = 𝑦$,\n",
    "где элементы матрицы $𝐴$ и столбца $𝑦$ — неотрицательные числа. По своему смыслу в экономике элементы матрицы $𝐴$ и столбцов $𝑥$, $𝑦$ не могут быть отрицательными числами."
   ]
  },
  {
   "cell_type": "markdown",
   "id": "78dcdeef-8598-4f38-9290-0a0b45285ab5",
   "metadata": {},
   "source": [
    "8. Матрица $𝐴$ называется продуктивной, если решение $𝑥$ системы при любой неотрицательной правой части $𝑦$ имеет только неотрицательные элементы $x_{i}$. Используя это определение, проверьте, являются ли матрицы продуктивными.\n",
    "\\\n",
    "$$\\begin{pmatrix}\n",
    "1 & 2 \\\\\n",
    "3 & 4\n",
    "\\end{pmatrix}\\\n",
    ",(8.2) \\qquad\n",
    "\\frac{1}{2}\\begin{pmatrix}\n",
    "1 & 2 \\\\\n",
    "3 & 4\n",
    "\\end{pmatrix}\\\n",
    ",(8.1) \\qquad\n",
    "\\frac{1}{10}\\begin{pmatrix}\n",
    "1 & 2 \\\\\n",
    "3 & 4\n",
    "\\end{pmatrix}\\\n",
    ",(8.3)\n",
    "$$"
   ]
  },
  {
   "cell_type": "code",
   "execution_count": 23,
   "id": "94497c3f-284e-4ae1-a896-595a38fb4f2e",
   "metadata": {},
   "outputs": [
    {
     "name": "stdout",
     "output_type": "stream",
     "text": [
      "[-0.16666666666666663, -0.5]\n",
      "Матрица не является продуктивной.\n"
     ]
    }
   ],
   "source": [
    "using LinearAlgebra\n",
    "\n",
    "A1 = [1 2; 3 4]\n",
    "E = ones(Int, 2, 2)\n",
    "\n",
    "function proverca_prodyctiv(A1)\n",
    "    prodyctiv = true\n",
    "    n = size(A1, 1)\n",
    "    y = [1.0; 2.0]\n",
    "    x = (Diagonal(E) - A1)^(-1) * y  #  система уравнений Ax = y\n",
    "    println(x)\n",
    "    if any(x .< 0)\n",
    "        prodyctiv = false\n",
    "    end\n",
    "    return prodyctiv\n",
    "end\n",
    "\n",
    "# Проверяем матрицу на продуктивность\n",
    "result = proverca_prodyctiv(A1)\n",
    "if result\n",
    "    println(\"Матрица является продуктивной.\")\n",
    "else\n",
    "    println(\"Матрица не является продуктивной.\")\n",
    "end"
   ]
  },
  {
   "cell_type": "code",
   "execution_count": 24,
   "id": "30e05744-d4e7-4972-a02e-93849fdfa7dc",
   "metadata": {},
   "outputs": [
    {
     "name": "stdout",
     "output_type": "stream",
     "text": [
      "[0.0, -3.0]\n",
      "Матрица не является продуктивной.\n"
     ]
    }
   ],
   "source": [
    "using LinearAlgebra\n",
    "\n",
    "A2 = [1 2; 3 4]*(1/2)\n",
    "E = ones(Int, 2, 2)\n",
    "\n",
    "# Функция для проверки продуктивности матрицы\n",
    "function proverca_prodyctiv(A2)\n",
    "    prodyctiv = true\n",
    "    n = size(A2, 1)\n",
    "    y = [3.0; 3.0]\n",
    "    x = (Diagonal(E) - A2)^(-1) * y  #  система уравнений Ax = y\n",
    "    println(x)\n",
    "    if any(x .< 0)\n",
    "        prodyctiv = false\n",
    "    end\n",
    "    return prodyctiv\n",
    "end\n",
    "\n",
    "# Проверяем матрицу на продуктивность\n",
    "result = proverca_prodyctiv(A2)\n",
    "if result\n",
    "    println(\"Матрица является продуктивной.\")\n",
    "else\n",
    "    println(\"Матрица не является продуктивной.\")\n",
    "end"
   ]
  },
  {
   "cell_type": "code",
   "execution_count": 25,
   "id": "c4df862d-9da0-47da-a1b9-d5f5b23f2b06",
   "metadata": {},
   "outputs": [
    {
     "name": "stdout",
     "output_type": "stream",
     "text": [
      "[5.416666666666667, 4.375]\n",
      "Матрица является продуктивной.\n"
     ]
    }
   ],
   "source": [
    "using LinearAlgebra\n",
    "\n",
    "A3 = 0.1*[1 2; 3 4]\n",
    "E = ones(Int, 2, 2)\n",
    "\n",
    "function proverca_prodyctiv(A3)\n",
    "    prodyctiv = true\n",
    "    n = size(A3, 1)\n",
    "    y = [4.0; 1.0]\n",
    "    x = (Diagonal(E) - A3)^(-1) * y  #  система уравнений Ax = y\n",
    "    println(x)\n",
    "    if any(x .< 0)\n",
    "        prodyctiv = false\n",
    "    end\n",
    "    return prodyctiv\n",
    "end\n",
    "\n",
    "result = proverca_prodyctiv(A3)\n",
    "if result\n",
    "    println(\"Матрица является продуктивной.\")\n",
    "else\n",
    "    println(\"Матрица не является продуктивной.\")\n",
    "end"
   ]
  },
  {
   "cell_type": "markdown",
   "id": "2ba87740-924a-4253-bbd7-666880d93085",
   "metadata": {},
   "source": [
    "9. Критерий продуктивности: матрица $𝐴$ является продуктивной тогда и только тогда,\n",
    "когда все элементы матрица\n",
    "$(𝐸 − 𝐴)^{-1}$\n",
    "являются неотрицательными числами. Используя этот критерий, проверьте, являются\n",
    "ли матрицы продуктивными.\n",
    "\\\n",
    "$$\\begin{pmatrix}\n",
    "1 & 2 \\\\\n",
    "3 & 4\n",
    "\\end{pmatrix}\\\n",
    ",(9.1) \\qquad\n",
    "\\frac{1}{2}\\begin{pmatrix}\n",
    "1 & 2 \\\\\n",
    "3 & 4\n",
    "\\end{pmatrix}\\\n",
    ",(9.2) \\qquad\n",
    "\\frac{1}{10}\\begin{pmatrix}\n",
    "1 & 2 \\\\\n",
    "3 & 4\n",
    "\\end{pmatrix}\\\n",
    ",(9.3) \n",
    "$$"
   ]
  },
  {
   "cell_type": "code",
   "execution_count": 26,
   "id": "b476cf9e-9593-480a-a95c-5cc39bfb114d",
   "metadata": {},
   "outputs": [
    {
     "data": {
      "text/plain": [
       "2×2 Matrix{Float64}:\n",
       "  0.5  -0.333333\n",
       " -0.5   0.0"
      ]
     },
     "metadata": {},
     "output_type": "display_data"
    },
    {
     "name": "stdout",
     "output_type": "stream",
     "text": [
      "Матрица не является продуктивной.\n"
     ]
    }
   ],
   "source": [
    "using LinearAlgebra\n",
    "\n",
    "A1 = [1 2; 3 4]\n",
    "E = ones(Int, 2, 2)\n",
    "\n",
    "function proverca_prodyctiv(A1)\n",
    "    prodyctiv = true\n",
    "    x = (Diagonal(E) - A1)^(-1)  #  система уравнений Ax = y\n",
    "    display(x)\n",
    "    if any(x .< 0)\n",
    "        prodyctiv = false\n",
    "    end\n",
    "    return prodyctiv\n",
    "end\n",
    "\n",
    "# Проверяем матрицу на продуктивность\n",
    "result = proverca_prodyctiv(A1)\n",
    "if result\n",
    "    println(\"Матрица является продуктивной.\")\n",
    "else\n",
    "    println(\"Матрица не является продуктивной.\")\n",
    "end"
   ]
  },
  {
   "cell_type": "code",
   "execution_count": 27,
   "id": "9b02e227-d363-418b-b4f3-39f7cf2aeef0",
   "metadata": {},
   "outputs": [
    {
     "data": {
      "text/plain": [
       "2×2 Matrix{Float64}:\n",
       "  0.5   -0.5\n",
       " -0.75  -0.25"
      ]
     },
     "metadata": {},
     "output_type": "display_data"
    },
    {
     "name": "stdout",
     "output_type": "stream",
     "text": [
      "Матрица не является продуктивной.\n"
     ]
    }
   ],
   "source": [
    "using LinearAlgebra\n",
    "\n",
    "A1 = [1 2; 3 4]*(1/2)\n",
    "E = ones(Int, 2, 2)\n",
    "\n",
    "function proverca_prodyctiv(A1)\n",
    "    prodyctiv = true\n",
    "    x = (Diagonal(E) - A1)^(-1)  #  система уравнений Ax = y\n",
    "    display(x)\n",
    "    if any(x .< 0)\n",
    "        prodyctiv = false\n",
    "    end\n",
    "    return prodyctiv\n",
    "end\n",
    "\n",
    "# Проверяем матрицу на продуктивность\n",
    "result = proverca_prodyctiv(A1)\n",
    "if result\n",
    "    println(\"Матрица является продуктивной.\")\n",
    "else\n",
    "    println(\"Матрица не является продуктивной.\")\n",
    "end"
   ]
  },
  {
   "cell_type": "code",
   "execution_count": 28,
   "id": "fa87b4e7-af57-4e85-8ca9-6e4af7aa957b",
   "metadata": {},
   "outputs": [
    {
     "data": {
      "text/plain": [
       "2×2 Matrix{Float64}:\n",
       " 1.25   0.416667\n",
       " 0.625  1.875"
      ]
     },
     "metadata": {},
     "output_type": "display_data"
    },
    {
     "name": "stdout",
     "output_type": "stream",
     "text": [
      "Матрица является продуктивной.\n"
     ]
    }
   ],
   "source": [
    "using LinearAlgebra\n",
    "\n",
    "A1 = [1 2; 3 4]*(0.1)\n",
    "E = ones(Int, 2, 2)\n",
    "\n",
    "function proverca_prodyctiv(A1)\n",
    "    prodyctiv = true\n",
    "    x = (Diagonal(E) - A1)^(-1)  #  система уравнений Ax = y\n",
    "    display(x)\n",
    "    if any(x .< 0)\n",
    "        prodyctiv = false\n",
    "    end\n",
    "    return prodyctiv\n",
    "end\n",
    "\n",
    "# Проверяем матрицу на продуктивность\n",
    "result = proverca_prodyctiv(A1)\n",
    "if result\n",
    "    println(\"Матрица является продуктивной.\")\n",
    "else\n",
    "    println(\"Матрица не является продуктивной.\")\n",
    "end"
   ]
  },
  {
   "cell_type": "markdown",
   "id": "9f7f6fe4-0b6b-4b3c-bb2b-017ff54e3c0f",
   "metadata": {},
   "source": [
    "10. Спектральный критерий продуктивности: матрица 𝐴 является продуктивной тогда и только тогда, когда все её собственные значения по модулю меньше 1. Используя этот критерий, проверьте, являются ли матрицы продуктивными.\n",
    "\n",
    "$$\\begin{pmatrix}\n",
    "1 & 2 \\\\\n",
    "3 & 4\n",
    "\\end{pmatrix}\\\n",
    ",(10.1) \\qquad\n",
    "\\frac{1}{2}\\begin{pmatrix}\n",
    "1 & 2 \\\\\n",
    "3 & 4\n",
    "\\end{pmatrix}\\\n",
    ",(10.2) \\qquad\n",
    "\\frac{1}{10}\\begin{pmatrix}\n",
    "1 & 2 \\\\\n",
    "3 & 4\n",
    "\\end{pmatrix}\\\n",
    ",(10.3) \\qquad\n",
    "\\begin{pmatrix}\n",
    "0.1 & 0.2 & 0.3 \\\\\n",
    "0 & 0.1 & 0.2 \\\\\n",
    "0 & 0.1 & 0.3\n",
    "\\end{pmatrix}\n",
    ",(10.4)\n",
    "$$"
   ]
  },
  {
   "cell_type": "code",
   "execution_count": 29,
   "id": "0d184e9d-ba90-47f1-8739-4f99a6aef0b6",
   "metadata": {},
   "outputs": [
    {
     "name": "stdout",
     "output_type": "stream",
     "text": [
      "[0.3722813232690143, 5.372281323269014]\n",
      "Матрица не является продуктивной.\n"
     ]
    }
   ],
   "source": [
    "using LinearAlgebra\n",
    "\n",
    "A1 = [1 2; 3 4]\n",
    "\n",
    "function proverca_prodyctiv(A1)\n",
    "    prodyctiv = true\n",
    "    sobs_znach = eigvals(A1)\n",
    "    x = abs.(sobs_znach)\n",
    "    println(x)\n",
    "    if any(x .> 1)\n",
    "        prodyctiv = false\n",
    "    end\n",
    "    return prodyctiv\n",
    "end\n",
    "\n",
    "# Проверяем матрицу на продуктивность\n",
    "result = proverca_prodyctiv(A1)\n",
    "if result\n",
    "    println(\"Матрица является продуктивной.\")\n",
    "else\n",
    "    println(\"Матрица не является продуктивной.\")\n",
    "end"
   ]
  },
  {
   "cell_type": "code",
   "execution_count": 30,
   "id": "20223a7f-2091-4558-87a6-84ada3565bb4",
   "metadata": {},
   "outputs": [
    {
     "name": "stdout",
     "output_type": "stream",
     "text": [
      "[0.18614066163450715, 2.686140661634507]\n",
      "Матрица не является продуктивной.\n"
     ]
    }
   ],
   "source": [
    "using LinearAlgebra\n",
    "\n",
    "A2 = [1 2; 3 4]*(1/2)\n",
    "\n",
    "function proverca_prodyctiv(A2)\n",
    "    prodyctiv = true\n",
    "    sobs_znach = eigvals(A2)\n",
    "    x = abs.(sobs_znach)\n",
    "    println(x)\n",
    "    if any(x .> 1)\n",
    "        prodyctiv = false\n",
    "    end\n",
    "    return prodyctiv\n",
    "end\n",
    "\n",
    "# Проверяем матрицу на продуктивность\n",
    "result = proverca_prodyctiv(A2)\n",
    "if result\n",
    "    println(\"Матрица является продуктивной.\")\n",
    "else\n",
    "    println(\"Матрица не является продуктивной.\")\n",
    "end"
   ]
  },
  {
   "cell_type": "code",
   "execution_count": 31,
   "id": "3b6927d3-411a-46df-a4a1-c33f676626ef",
   "metadata": {},
   "outputs": [
    {
     "name": "stdout",
     "output_type": "stream",
     "text": [
      "[0.037228132326901475, 0.5372281323269015]\n",
      "Матрица является продуктивной.\n"
     ]
    }
   ],
   "source": [
    "using LinearAlgebra\n",
    "\n",
    "A3 = [1 2; 3 4]*(1/10)\n",
    "\n",
    "function proverca_prodyctiv(A3)\n",
    "    prodyctiv = true\n",
    "    sobs_znach = eigvals(A3)\n",
    "    x = abs.(sobs_znach)\n",
    "    println(x)\n",
    "    if any(x .> 1)\n",
    "        prodyctiv = false\n",
    "    end\n",
    "    return prodyctiv\n",
    "end\n",
    "\n",
    "# Проверяем матрицу на продуктивность\n",
    "result = proverca_prodyctiv(A3)\n",
    "if result\n",
    "    println(\"Матрица является продуктивной.\")\n",
    "else\n",
    "    println(\"Матрица не является продуктивной.\")\n",
    "end"
   ]
  },
  {
   "cell_type": "code",
   "execution_count": 32,
   "id": "aada9ed8-bc3f-4fd0-a189-3a96c2067dfa",
   "metadata": {},
   "outputs": [
    {
     "name": "stdout",
     "output_type": "stream",
     "text": [
      "[0.02679491924311228, 0.1, 0.37320508075688774]\n",
      "Матрица является продуктивной.\n"
     ]
    }
   ],
   "source": [
    "using LinearAlgebra\n",
    "\n",
    "A4 = [0.1 0.2 0.3; 0.0 0.1 0.2; 0.0 0.1 0.3]\n",
    "\n",
    "function proverca_prodyctiv(A4)\n",
    "    prodyctiv = true\n",
    "    sobs_znach = eigvals(A4)\n",
    "    x = abs.(sobs_znach)\n",
    "    println(x)\n",
    "    if any(x .> 1)\n",
    "        prodyctiv = false\n",
    "    end\n",
    "    return prodyctiv\n",
    "end\n",
    "\n",
    "# Проверяем матрицу на продуктивность\n",
    "result = proverca_prodyctiv(A4)\n",
    "if result\n",
    "    println(\"Матрица является продуктивной.\")\n",
    "else\n",
    "    println(\"Матрица не является продуктивной.\")\n",
    "end"
   ]
  },
  {
   "cell_type": "markdown",
   "id": "0b91a8e3-a729-4c73-a1c7-aae5875c3198",
   "metadata": {},
   "source": [
    "Выводы:"
   ]
  },
  {
   "cell_type": "markdown",
   "id": "792b0197-e9e4-461f-ad6c-104b67e4cc12",
   "metadata": {},
   "source": [
    "Мною были изучены возможности специализированных пакетов Julia для выполнения и оценки эффективности операций над объектами линейной алгебры."
   ]
  },
  {
   "cell_type": "markdown",
   "id": "863d7dc1-63ad-485b-b1db-64ceba9f24e2",
   "metadata": {},
   "source": [
    "Список литературы:"
   ]
  },
  {
   "cell_type": "markdown",
   "id": "9bee722e-ca1b-468f-9578-63d27abdae45",
   "metadata": {},
   "source": [
    "Julia 1.5 Documentation. — 2020. — URL: https://docs.julialang.org/en/v1/.\\\n",
    "Klok H.,Nazarathy Y. Statistics with Julia: Fundamentals for Data Science,Machine Learning and Artificial Intelligence. — 2020. — URL: https://statisticswithjulia.org/.\\\n",
    "Ökten G. First Semester in Numerical Analysis with Julia. — Florida State University, 2019. — DOI: 10.33009/jul.\\\n",
    "Антонюк В. А. Язык Julia как инструмент исследователя. — М. : Физический факультет МГУ им. М. В. Ломоносова, 2019.\\\n",
    "Шиндин А. В. Язык программирования математических вычислений Julia. Базовое руководство. — Нижний Новгород : Нижегородский госуниверситет, 2016.\\\n",
    "Задание лабораторной работы №4 - https://esystem.rudn.ru/pluginfile.php/2231404/mod_resource/content/3/004-lab_linear-algebra.pdf"
   ]
  }
 ],
 "metadata": {
  "kernelspec": {
   "display_name": "Julia 1.8.5",
   "language": "julia",
   "name": "julia-1.8"
  },
  "language_info": {
   "file_extension": ".jl",
   "mimetype": "application/julia",
   "name": "julia",
   "version": "1.8.5"
  }
 },
 "nbformat": 4,
 "nbformat_minor": 5
}
